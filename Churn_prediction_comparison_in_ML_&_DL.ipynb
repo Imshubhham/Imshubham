{
  "nbformat": 4,
  "nbformat_minor": 0,
  "metadata": {
    "colab": {
      "provenance": [],
      "authorship_tag": "ABX9TyNMoP5gIQv7zELN+oVaXCk2",
      "include_colab_link": true
    },
    "kernelspec": {
      "name": "python3",
      "display_name": "Python 3"
    },
    "language_info": {
      "name": "python"
    }
  },
  "cells": [
    {
      "cell_type": "markdown",
      "metadata": {
        "id": "view-in-github",
        "colab_type": "text"
      },
      "source": [
        "<a href=\"https://colab.research.google.com/github/Imshubhham/Imshubham/blob/main/Churn_prediction_comparison_in_ML_%26_DL.ipynb\" target=\"_parent\"><img src=\"https://colab.research.google.com/assets/colab-badge.svg\" alt=\"Open In Colab\"/></a>"
      ]
    },
    {
      "cell_type": "code",
      "execution_count": 39,
      "metadata": {
        "id": "beMhNyci1zom"
      },
      "outputs": [],
      "source": [
        "import numpy as np\n",
        "import pandas as pd\n",
        "import seaborn as sns\n",
        "import matplotlib.pyplot as plt"
      ]
    },
    {
      "cell_type": "code",
      "source": [
        "df=pd.read_csv('https://raw.githubusercontent.com/nicknochnack/Tensorflow-in-10-Minutes/main/Churn.csv')"
      ],
      "metadata": {
        "id": "tbns1Enl19mS"
      },
      "execution_count": 40,
      "outputs": []
    },
    {
      "cell_type": "code",
      "source": [
        "df.head()"
      ],
      "metadata": {
        "colab": {
          "base_uri": "https://localhost:8080/",
          "height": 421
        },
        "id": "0Xbg7Afc2BtF",
        "outputId": "d843c96b-0645-4da6-88a1-05a98d3fec25"
      },
      "execution_count": 41,
      "outputs": [
        {
          "output_type": "execute_result",
          "data": {
            "text/plain": [
              "  Customer ID  Gender  Senior Citizen Partner Dependents  tenure  \\\n",
              "0  7590-VHVEA  Female               0     Yes         No       1   \n",
              "1  7590-VHVEG  Female               0     Yes         No       1   \n",
              "2  5575-GNVDE    Male               0      No         No      34   \n",
              "3  3668-QPYBK    Male               0      No         No       2   \n",
              "4  7795-CFOCW    Male               0      No         No      45   \n",
              "\n",
              "  Phone Service    Multiple Lines Internet Service Online Security  ...  \\\n",
              "0            No  No phone service              DSL              No  ...   \n",
              "1            No  No phone service              DSL              No  ...   \n",
              "2           Yes                No              DSL             Yes  ...   \n",
              "3           Yes                No              DSL             Yes  ...   \n",
              "4            No  No phone service              DSL             Yes  ...   \n",
              "\n",
              "  Device Protection Tech Support Streaming TV Streaming Movies  \\\n",
              "0                No           No           No               No   \n",
              "1                No           No           No               No   \n",
              "2               Yes           No           No               No   \n",
              "3                No           No           No               No   \n",
              "4               Yes          Yes           No               No   \n",
              "\n",
              "         Contract Paperless Billing             Payment Method  \\\n",
              "0  Month-to-month               Yes           Electronic check   \n",
              "1  Month-to-month               Yes           Electronic check   \n",
              "2        One year                No               Mailed check   \n",
              "3  Month-to-month               Yes               Mailed check   \n",
              "4        One year                No  Bank transfer (automatic)   \n",
              "\n",
              "  Monthly Charges  Total Charges Churn  \n",
              "0           29.85          29.85    No  \n",
              "1           29.85          29.85    No  \n",
              "2           56.95         1889.5    No  \n",
              "3           53.85         108.15   Yes  \n",
              "4           42.30        1840.75    No  \n",
              "\n",
              "[5 rows x 21 columns]"
            ],
            "text/html": [
              "\n",
              "\n",
              "  <div id=\"df-cd633773-4519-4a46-ab1c-a20b2616b721\">\n",
              "    <div class=\"colab-df-container\">\n",
              "      <div>\n",
              "<style scoped>\n",
              "    .dataframe tbody tr th:only-of-type {\n",
              "        vertical-align: middle;\n",
              "    }\n",
              "\n",
              "    .dataframe tbody tr th {\n",
              "        vertical-align: top;\n",
              "    }\n",
              "\n",
              "    .dataframe thead th {\n",
              "        text-align: right;\n",
              "    }\n",
              "</style>\n",
              "<table border=\"1\" class=\"dataframe\">\n",
              "  <thead>\n",
              "    <tr style=\"text-align: right;\">\n",
              "      <th></th>\n",
              "      <th>Customer ID</th>\n",
              "      <th>Gender</th>\n",
              "      <th>Senior Citizen</th>\n",
              "      <th>Partner</th>\n",
              "      <th>Dependents</th>\n",
              "      <th>tenure</th>\n",
              "      <th>Phone Service</th>\n",
              "      <th>Multiple Lines</th>\n",
              "      <th>Internet Service</th>\n",
              "      <th>Online Security</th>\n",
              "      <th>...</th>\n",
              "      <th>Device Protection</th>\n",
              "      <th>Tech Support</th>\n",
              "      <th>Streaming TV</th>\n",
              "      <th>Streaming Movies</th>\n",
              "      <th>Contract</th>\n",
              "      <th>Paperless Billing</th>\n",
              "      <th>Payment Method</th>\n",
              "      <th>Monthly Charges</th>\n",
              "      <th>Total Charges</th>\n",
              "      <th>Churn</th>\n",
              "    </tr>\n",
              "  </thead>\n",
              "  <tbody>\n",
              "    <tr>\n",
              "      <th>0</th>\n",
              "      <td>7590-VHVEA</td>\n",
              "      <td>Female</td>\n",
              "      <td>0</td>\n",
              "      <td>Yes</td>\n",
              "      <td>No</td>\n",
              "      <td>1</td>\n",
              "      <td>No</td>\n",
              "      <td>No phone service</td>\n",
              "      <td>DSL</td>\n",
              "      <td>No</td>\n",
              "      <td>...</td>\n",
              "      <td>No</td>\n",
              "      <td>No</td>\n",
              "      <td>No</td>\n",
              "      <td>No</td>\n",
              "      <td>Month-to-month</td>\n",
              "      <td>Yes</td>\n",
              "      <td>Electronic check</td>\n",
              "      <td>29.85</td>\n",
              "      <td>29.85</td>\n",
              "      <td>No</td>\n",
              "    </tr>\n",
              "    <tr>\n",
              "      <th>1</th>\n",
              "      <td>7590-VHVEG</td>\n",
              "      <td>Female</td>\n",
              "      <td>0</td>\n",
              "      <td>Yes</td>\n",
              "      <td>No</td>\n",
              "      <td>1</td>\n",
              "      <td>No</td>\n",
              "      <td>No phone service</td>\n",
              "      <td>DSL</td>\n",
              "      <td>No</td>\n",
              "      <td>...</td>\n",
              "      <td>No</td>\n",
              "      <td>No</td>\n",
              "      <td>No</td>\n",
              "      <td>No</td>\n",
              "      <td>Month-to-month</td>\n",
              "      <td>Yes</td>\n",
              "      <td>Electronic check</td>\n",
              "      <td>29.85</td>\n",
              "      <td>29.85</td>\n",
              "      <td>No</td>\n",
              "    </tr>\n",
              "    <tr>\n",
              "      <th>2</th>\n",
              "      <td>5575-GNVDE</td>\n",
              "      <td>Male</td>\n",
              "      <td>0</td>\n",
              "      <td>No</td>\n",
              "      <td>No</td>\n",
              "      <td>34</td>\n",
              "      <td>Yes</td>\n",
              "      <td>No</td>\n",
              "      <td>DSL</td>\n",
              "      <td>Yes</td>\n",
              "      <td>...</td>\n",
              "      <td>Yes</td>\n",
              "      <td>No</td>\n",
              "      <td>No</td>\n",
              "      <td>No</td>\n",
              "      <td>One year</td>\n",
              "      <td>No</td>\n",
              "      <td>Mailed check</td>\n",
              "      <td>56.95</td>\n",
              "      <td>1889.5</td>\n",
              "      <td>No</td>\n",
              "    </tr>\n",
              "    <tr>\n",
              "      <th>3</th>\n",
              "      <td>3668-QPYBK</td>\n",
              "      <td>Male</td>\n",
              "      <td>0</td>\n",
              "      <td>No</td>\n",
              "      <td>No</td>\n",
              "      <td>2</td>\n",
              "      <td>Yes</td>\n",
              "      <td>No</td>\n",
              "      <td>DSL</td>\n",
              "      <td>Yes</td>\n",
              "      <td>...</td>\n",
              "      <td>No</td>\n",
              "      <td>No</td>\n",
              "      <td>No</td>\n",
              "      <td>No</td>\n",
              "      <td>Month-to-month</td>\n",
              "      <td>Yes</td>\n",
              "      <td>Mailed check</td>\n",
              "      <td>53.85</td>\n",
              "      <td>108.15</td>\n",
              "      <td>Yes</td>\n",
              "    </tr>\n",
              "    <tr>\n",
              "      <th>4</th>\n",
              "      <td>7795-CFOCW</td>\n",
              "      <td>Male</td>\n",
              "      <td>0</td>\n",
              "      <td>No</td>\n",
              "      <td>No</td>\n",
              "      <td>45</td>\n",
              "      <td>No</td>\n",
              "      <td>No phone service</td>\n",
              "      <td>DSL</td>\n",
              "      <td>Yes</td>\n",
              "      <td>...</td>\n",
              "      <td>Yes</td>\n",
              "      <td>Yes</td>\n",
              "      <td>No</td>\n",
              "      <td>No</td>\n",
              "      <td>One year</td>\n",
              "      <td>No</td>\n",
              "      <td>Bank transfer (automatic)</td>\n",
              "      <td>42.30</td>\n",
              "      <td>1840.75</td>\n",
              "      <td>No</td>\n",
              "    </tr>\n",
              "  </tbody>\n",
              "</table>\n",
              "<p>5 rows × 21 columns</p>\n",
              "</div>\n",
              "      <button class=\"colab-df-convert\" onclick=\"convertToInteractive('df-cd633773-4519-4a46-ab1c-a20b2616b721')\"\n",
              "              title=\"Convert this dataframe to an interactive table.\"\n",
              "              style=\"display:none;\">\n",
              "\n",
              "  <svg xmlns=\"http://www.w3.org/2000/svg\" height=\"24px\"viewBox=\"0 0 24 24\"\n",
              "       width=\"24px\">\n",
              "    <path d=\"M0 0h24v24H0V0z\" fill=\"none\"/>\n",
              "    <path d=\"M18.56 5.44l.94 2.06.94-2.06 2.06-.94-2.06-.94-.94-2.06-.94 2.06-2.06.94zm-11 1L8.5 8.5l.94-2.06 2.06-.94-2.06-.94L8.5 2.5l-.94 2.06-2.06.94zm10 10l.94 2.06.94-2.06 2.06-.94-2.06-.94-.94-2.06-.94 2.06-2.06.94z\"/><path d=\"M17.41 7.96l-1.37-1.37c-.4-.4-.92-.59-1.43-.59-.52 0-1.04.2-1.43.59L10.3 9.45l-7.72 7.72c-.78.78-.78 2.05 0 2.83L4 21.41c.39.39.9.59 1.41.59.51 0 1.02-.2 1.41-.59l7.78-7.78 2.81-2.81c.8-.78.8-2.07 0-2.86zM5.41 20L4 18.59l7.72-7.72 1.47 1.35L5.41 20z\"/>\n",
              "  </svg>\n",
              "      </button>\n",
              "\n",
              "\n",
              "\n",
              "    <div id=\"df-20d8d8d1-a070-449f-b04e-e53f8103e601\">\n",
              "      <button class=\"colab-df-quickchart\" onclick=\"quickchart('df-20d8d8d1-a070-449f-b04e-e53f8103e601')\"\n",
              "              title=\"Suggest charts.\"\n",
              "              style=\"display:none;\">\n",
              "\n",
              "<svg xmlns=\"http://www.w3.org/2000/svg\" height=\"24px\"viewBox=\"0 0 24 24\"\n",
              "     width=\"24px\">\n",
              "    <g>\n",
              "        <path d=\"M19 3H5c-1.1 0-2 .9-2 2v14c0 1.1.9 2 2 2h14c1.1 0 2-.9 2-2V5c0-1.1-.9-2-2-2zM9 17H7v-7h2v7zm4 0h-2V7h2v10zm4 0h-2v-4h2v4z\"/>\n",
              "    </g>\n",
              "</svg>\n",
              "      </button>\n",
              "    </div>\n",
              "\n",
              "<style>\n",
              "  .colab-df-quickchart {\n",
              "    background-color: #E8F0FE;\n",
              "    border: none;\n",
              "    border-radius: 50%;\n",
              "    cursor: pointer;\n",
              "    display: none;\n",
              "    fill: #1967D2;\n",
              "    height: 32px;\n",
              "    padding: 0 0 0 0;\n",
              "    width: 32px;\n",
              "  }\n",
              "\n",
              "  .colab-df-quickchart:hover {\n",
              "    background-color: #E2EBFA;\n",
              "    box-shadow: 0px 1px 2px rgba(60, 64, 67, 0.3), 0px 1px 3px 1px rgba(60, 64, 67, 0.15);\n",
              "    fill: #174EA6;\n",
              "  }\n",
              "\n",
              "  [theme=dark] .colab-df-quickchart {\n",
              "    background-color: #3B4455;\n",
              "    fill: #D2E3FC;\n",
              "  }\n",
              "\n",
              "  [theme=dark] .colab-df-quickchart:hover {\n",
              "    background-color: #434B5C;\n",
              "    box-shadow: 0px 1px 3px 1px rgba(0, 0, 0, 0.15);\n",
              "    filter: drop-shadow(0px 1px 2px rgba(0, 0, 0, 0.3));\n",
              "    fill: #FFFFFF;\n",
              "  }\n",
              "</style>\n",
              "\n",
              "    <script>\n",
              "      async function quickchart(key) {\n",
              "        const containerElement = document.querySelector('#' + key);\n",
              "        const charts = await google.colab.kernel.invokeFunction(\n",
              "            'suggestCharts', [key], {});\n",
              "      }\n",
              "    </script>\n",
              "\n",
              "      <script>\n",
              "\n",
              "function displayQuickchartButton(domScope) {\n",
              "  let quickchartButtonEl =\n",
              "    domScope.querySelector('#df-20d8d8d1-a070-449f-b04e-e53f8103e601 button.colab-df-quickchart');\n",
              "  quickchartButtonEl.style.display =\n",
              "    google.colab.kernel.accessAllowed ? 'block' : 'none';\n",
              "}\n",
              "\n",
              "        displayQuickchartButton(document);\n",
              "      </script>\n",
              "      <style>\n",
              "    .colab-df-container {\n",
              "      display:flex;\n",
              "      flex-wrap:wrap;\n",
              "      gap: 12px;\n",
              "    }\n",
              "\n",
              "    .colab-df-convert {\n",
              "      background-color: #E8F0FE;\n",
              "      border: none;\n",
              "      border-radius: 50%;\n",
              "      cursor: pointer;\n",
              "      display: none;\n",
              "      fill: #1967D2;\n",
              "      height: 32px;\n",
              "      padding: 0 0 0 0;\n",
              "      width: 32px;\n",
              "    }\n",
              "\n",
              "    .colab-df-convert:hover {\n",
              "      background-color: #E2EBFA;\n",
              "      box-shadow: 0px 1px 2px rgba(60, 64, 67, 0.3), 0px 1px 3px 1px rgba(60, 64, 67, 0.15);\n",
              "      fill: #174EA6;\n",
              "    }\n",
              "\n",
              "    [theme=dark] .colab-df-convert {\n",
              "      background-color: #3B4455;\n",
              "      fill: #D2E3FC;\n",
              "    }\n",
              "\n",
              "    [theme=dark] .colab-df-convert:hover {\n",
              "      background-color: #434B5C;\n",
              "      box-shadow: 0px 1px 3px 1px rgba(0, 0, 0, 0.15);\n",
              "      filter: drop-shadow(0px 1px 2px rgba(0, 0, 0, 0.3));\n",
              "      fill: #FFFFFF;\n",
              "    }\n",
              "  </style>\n",
              "\n",
              "      <script>\n",
              "        const buttonEl =\n",
              "          document.querySelector('#df-cd633773-4519-4a46-ab1c-a20b2616b721 button.colab-df-convert');\n",
              "        buttonEl.style.display =\n",
              "          google.colab.kernel.accessAllowed ? 'block' : 'none';\n",
              "\n",
              "        async function convertToInteractive(key) {\n",
              "          const element = document.querySelector('#df-cd633773-4519-4a46-ab1c-a20b2616b721');\n",
              "          const dataTable =\n",
              "            await google.colab.kernel.invokeFunction('convertToInteractive',\n",
              "                                                     [key], {});\n",
              "          if (!dataTable) return;\n",
              "\n",
              "          const docLinkHtml = 'Like what you see? Visit the ' +\n",
              "            '<a target=\"_blank\" href=https://colab.research.google.com/notebooks/data_table.ipynb>data table notebook</a>'\n",
              "            + ' to learn more about interactive tables.';\n",
              "          element.innerHTML = '';\n",
              "          dataTable['output_type'] = 'display_data';\n",
              "          await google.colab.output.renderOutput(dataTable, element);\n",
              "          const docLink = document.createElement('div');\n",
              "          docLink.innerHTML = docLinkHtml;\n",
              "          element.appendChild(docLink);\n",
              "        }\n",
              "      </script>\n",
              "    </div>\n",
              "  </div>\n"
            ]
          },
          "metadata": {},
          "execution_count": 41
        }
      ]
    },
    {
      "cell_type": "code",
      "source": [
        "X=pd.get_dummies(df.drop(['Churn','Customer ID'],axis=1))\n",
        "y=df['Churn'].apply(lambda x: 1 if x=='Yes' else 0)"
      ],
      "metadata": {
        "id": "GUUctW0H2EL5"
      },
      "execution_count": 42,
      "outputs": []
    },
    {
      "cell_type": "code",
      "source": [
        "X.sample(2)"
      ],
      "metadata": {
        "colab": {
          "base_uri": "https://localhost:8080/",
          "height": 222
        },
        "id": "QdE-eWsH3VKa",
        "outputId": "93696037-9a27-44f7-893d-545fa5594733"
      },
      "execution_count": 43,
      "outputs": [
        {
          "output_type": "execute_result",
          "data": {
            "text/plain": [
              "      Senior Citizen  tenure  Monthly Charges  Gender_Female  Gender_Male  \\\n",
              "4504               0      17             94.4              1            0   \n",
              "902                0       9             98.3              1            0   \n",
              "\n",
              "      Partner_No  Partner_Yes  Dependents_No  Dependents_Yes  \\\n",
              "4504           1            0              1               0   \n",
              "902            1            0              1               0   \n",
              "\n",
              "      Phone Service_No  ...  Total Charges_995.35  Total Charges_996.45  \\\n",
              "4504                 0  ...                     0                     0   \n",
              "902                  0  ...                     0                     0   \n",
              "\n",
              "      Total Charges_996.85  Total Charges_996.95  Total Charges_997.65  \\\n",
              "4504                     0                     0                     0   \n",
              "902                      0                     0                     0   \n",
              "\n",
              "      Total Charges_997.75  Total Charges_998.1  Total Charges_999.45  \\\n",
              "4504                     0                    0                     0   \n",
              "902                      0                    0                     0   \n",
              "\n",
              "      Total Charges_999.8  Total Charges_999.9  \n",
              "4504                    0                    0  \n",
              "902                     0                    0  \n",
              "\n",
              "[2 rows x 6575 columns]"
            ],
            "text/html": [
              "\n",
              "\n",
              "  <div id=\"df-34db85aa-4362-435c-8846-d848ed67a231\">\n",
              "    <div class=\"colab-df-container\">\n",
              "      <div>\n",
              "<style scoped>\n",
              "    .dataframe tbody tr th:only-of-type {\n",
              "        vertical-align: middle;\n",
              "    }\n",
              "\n",
              "    .dataframe tbody tr th {\n",
              "        vertical-align: top;\n",
              "    }\n",
              "\n",
              "    .dataframe thead th {\n",
              "        text-align: right;\n",
              "    }\n",
              "</style>\n",
              "<table border=\"1\" class=\"dataframe\">\n",
              "  <thead>\n",
              "    <tr style=\"text-align: right;\">\n",
              "      <th></th>\n",
              "      <th>Senior Citizen</th>\n",
              "      <th>tenure</th>\n",
              "      <th>Monthly Charges</th>\n",
              "      <th>Gender_Female</th>\n",
              "      <th>Gender_Male</th>\n",
              "      <th>Partner_No</th>\n",
              "      <th>Partner_Yes</th>\n",
              "      <th>Dependents_No</th>\n",
              "      <th>Dependents_Yes</th>\n",
              "      <th>Phone Service_No</th>\n",
              "      <th>...</th>\n",
              "      <th>Total Charges_995.35</th>\n",
              "      <th>Total Charges_996.45</th>\n",
              "      <th>Total Charges_996.85</th>\n",
              "      <th>Total Charges_996.95</th>\n",
              "      <th>Total Charges_997.65</th>\n",
              "      <th>Total Charges_997.75</th>\n",
              "      <th>Total Charges_998.1</th>\n",
              "      <th>Total Charges_999.45</th>\n",
              "      <th>Total Charges_999.8</th>\n",
              "      <th>Total Charges_999.9</th>\n",
              "    </tr>\n",
              "  </thead>\n",
              "  <tbody>\n",
              "    <tr>\n",
              "      <th>4504</th>\n",
              "      <td>0</td>\n",
              "      <td>17</td>\n",
              "      <td>94.4</td>\n",
              "      <td>1</td>\n",
              "      <td>0</td>\n",
              "      <td>1</td>\n",
              "      <td>0</td>\n",
              "      <td>1</td>\n",
              "      <td>0</td>\n",
              "      <td>0</td>\n",
              "      <td>...</td>\n",
              "      <td>0</td>\n",
              "      <td>0</td>\n",
              "      <td>0</td>\n",
              "      <td>0</td>\n",
              "      <td>0</td>\n",
              "      <td>0</td>\n",
              "      <td>0</td>\n",
              "      <td>0</td>\n",
              "      <td>0</td>\n",
              "      <td>0</td>\n",
              "    </tr>\n",
              "    <tr>\n",
              "      <th>902</th>\n",
              "      <td>0</td>\n",
              "      <td>9</td>\n",
              "      <td>98.3</td>\n",
              "      <td>1</td>\n",
              "      <td>0</td>\n",
              "      <td>1</td>\n",
              "      <td>0</td>\n",
              "      <td>1</td>\n",
              "      <td>0</td>\n",
              "      <td>0</td>\n",
              "      <td>...</td>\n",
              "      <td>0</td>\n",
              "      <td>0</td>\n",
              "      <td>0</td>\n",
              "      <td>0</td>\n",
              "      <td>0</td>\n",
              "      <td>0</td>\n",
              "      <td>0</td>\n",
              "      <td>0</td>\n",
              "      <td>0</td>\n",
              "      <td>0</td>\n",
              "    </tr>\n",
              "  </tbody>\n",
              "</table>\n",
              "<p>2 rows × 6575 columns</p>\n",
              "</div>\n",
              "      <button class=\"colab-df-convert\" onclick=\"convertToInteractive('df-34db85aa-4362-435c-8846-d848ed67a231')\"\n",
              "              title=\"Convert this dataframe to an interactive table.\"\n",
              "              style=\"display:none;\">\n",
              "\n",
              "  <svg xmlns=\"http://www.w3.org/2000/svg\" height=\"24px\"viewBox=\"0 0 24 24\"\n",
              "       width=\"24px\">\n",
              "    <path d=\"M0 0h24v24H0V0z\" fill=\"none\"/>\n",
              "    <path d=\"M18.56 5.44l.94 2.06.94-2.06 2.06-.94-2.06-.94-.94-2.06-.94 2.06-2.06.94zm-11 1L8.5 8.5l.94-2.06 2.06-.94-2.06-.94L8.5 2.5l-.94 2.06-2.06.94zm10 10l.94 2.06.94-2.06 2.06-.94-2.06-.94-.94-2.06-.94 2.06-2.06.94z\"/><path d=\"M17.41 7.96l-1.37-1.37c-.4-.4-.92-.59-1.43-.59-.52 0-1.04.2-1.43.59L10.3 9.45l-7.72 7.72c-.78.78-.78 2.05 0 2.83L4 21.41c.39.39.9.59 1.41.59.51 0 1.02-.2 1.41-.59l7.78-7.78 2.81-2.81c.8-.78.8-2.07 0-2.86zM5.41 20L4 18.59l7.72-7.72 1.47 1.35L5.41 20z\"/>\n",
              "  </svg>\n",
              "      </button>\n",
              "\n",
              "\n",
              "\n",
              "    <div id=\"df-b7e33ed0-154b-4706-82f1-d05125f89cce\">\n",
              "      <button class=\"colab-df-quickchart\" onclick=\"quickchart('df-b7e33ed0-154b-4706-82f1-d05125f89cce')\"\n",
              "              title=\"Suggest charts.\"\n",
              "              style=\"display:none;\">\n",
              "\n",
              "<svg xmlns=\"http://www.w3.org/2000/svg\" height=\"24px\"viewBox=\"0 0 24 24\"\n",
              "     width=\"24px\">\n",
              "    <g>\n",
              "        <path d=\"M19 3H5c-1.1 0-2 .9-2 2v14c0 1.1.9 2 2 2h14c1.1 0 2-.9 2-2V5c0-1.1-.9-2-2-2zM9 17H7v-7h2v7zm4 0h-2V7h2v10zm4 0h-2v-4h2v4z\"/>\n",
              "    </g>\n",
              "</svg>\n",
              "      </button>\n",
              "    </div>\n",
              "\n",
              "<style>\n",
              "  .colab-df-quickchart {\n",
              "    background-color: #E8F0FE;\n",
              "    border: none;\n",
              "    border-radius: 50%;\n",
              "    cursor: pointer;\n",
              "    display: none;\n",
              "    fill: #1967D2;\n",
              "    height: 32px;\n",
              "    padding: 0 0 0 0;\n",
              "    width: 32px;\n",
              "  }\n",
              "\n",
              "  .colab-df-quickchart:hover {\n",
              "    background-color: #E2EBFA;\n",
              "    box-shadow: 0px 1px 2px rgba(60, 64, 67, 0.3), 0px 1px 3px 1px rgba(60, 64, 67, 0.15);\n",
              "    fill: #174EA6;\n",
              "  }\n",
              "\n",
              "  [theme=dark] .colab-df-quickchart {\n",
              "    background-color: #3B4455;\n",
              "    fill: #D2E3FC;\n",
              "  }\n",
              "\n",
              "  [theme=dark] .colab-df-quickchart:hover {\n",
              "    background-color: #434B5C;\n",
              "    box-shadow: 0px 1px 3px 1px rgba(0, 0, 0, 0.15);\n",
              "    filter: drop-shadow(0px 1px 2px rgba(0, 0, 0, 0.3));\n",
              "    fill: #FFFFFF;\n",
              "  }\n",
              "</style>\n",
              "\n",
              "    <script>\n",
              "      async function quickchart(key) {\n",
              "        const containerElement = document.querySelector('#' + key);\n",
              "        const charts = await google.colab.kernel.invokeFunction(\n",
              "            'suggestCharts', [key], {});\n",
              "      }\n",
              "    </script>\n",
              "\n",
              "      <script>\n",
              "\n",
              "function displayQuickchartButton(domScope) {\n",
              "  let quickchartButtonEl =\n",
              "    domScope.querySelector('#df-b7e33ed0-154b-4706-82f1-d05125f89cce button.colab-df-quickchart');\n",
              "  quickchartButtonEl.style.display =\n",
              "    google.colab.kernel.accessAllowed ? 'block' : 'none';\n",
              "}\n",
              "\n",
              "        displayQuickchartButton(document);\n",
              "      </script>\n",
              "      <style>\n",
              "    .colab-df-container {\n",
              "      display:flex;\n",
              "      flex-wrap:wrap;\n",
              "      gap: 12px;\n",
              "    }\n",
              "\n",
              "    .colab-df-convert {\n",
              "      background-color: #E8F0FE;\n",
              "      border: none;\n",
              "      border-radius: 50%;\n",
              "      cursor: pointer;\n",
              "      display: none;\n",
              "      fill: #1967D2;\n",
              "      height: 32px;\n",
              "      padding: 0 0 0 0;\n",
              "      width: 32px;\n",
              "    }\n",
              "\n",
              "    .colab-df-convert:hover {\n",
              "      background-color: #E2EBFA;\n",
              "      box-shadow: 0px 1px 2px rgba(60, 64, 67, 0.3), 0px 1px 3px 1px rgba(60, 64, 67, 0.15);\n",
              "      fill: #174EA6;\n",
              "    }\n",
              "\n",
              "    [theme=dark] .colab-df-convert {\n",
              "      background-color: #3B4455;\n",
              "      fill: #D2E3FC;\n",
              "    }\n",
              "\n",
              "    [theme=dark] .colab-df-convert:hover {\n",
              "      background-color: #434B5C;\n",
              "      box-shadow: 0px 1px 3px 1px rgba(0, 0, 0, 0.15);\n",
              "      filter: drop-shadow(0px 1px 2px rgba(0, 0, 0, 0.3));\n",
              "      fill: #FFFFFF;\n",
              "    }\n",
              "  </style>\n",
              "\n",
              "      <script>\n",
              "        const buttonEl =\n",
              "          document.querySelector('#df-34db85aa-4362-435c-8846-d848ed67a231 button.colab-df-convert');\n",
              "        buttonEl.style.display =\n",
              "          google.colab.kernel.accessAllowed ? 'block' : 'none';\n",
              "\n",
              "        async function convertToInteractive(key) {\n",
              "          const element = document.querySelector('#df-34db85aa-4362-435c-8846-d848ed67a231');\n",
              "          const dataTable =\n",
              "            await google.colab.kernel.invokeFunction('convertToInteractive',\n",
              "                                                     [key], {});\n",
              "          if (!dataTable) return;\n",
              "\n",
              "          const docLinkHtml = 'Like what you see? Visit the ' +\n",
              "            '<a target=\"_blank\" href=https://colab.research.google.com/notebooks/data_table.ipynb>data table notebook</a>'\n",
              "            + ' to learn more about interactive tables.';\n",
              "          element.innerHTML = '';\n",
              "          dataTable['output_type'] = 'display_data';\n",
              "          await google.colab.output.renderOutput(dataTable, element);\n",
              "          const docLink = document.createElement('div');\n",
              "          docLink.innerHTML = docLinkHtml;\n",
              "          element.appendChild(docLink);\n",
              "        }\n",
              "      </script>\n",
              "    </div>\n",
              "  </div>\n"
            ]
          },
          "metadata": {},
          "execution_count": 43
        }
      ]
    },
    {
      "cell_type": "code",
      "source": [
        "from sklearn.model_selection import train_test_split\n",
        "X_train, X_test, y_train, y_test = train_test_split(X, y, test_size = 0.2, random_state = 100)"
      ],
      "metadata": {
        "id": "JOpF9meY3V9C"
      },
      "execution_count": 44,
      "outputs": []
    },
    {
      "cell_type": "code",
      "source": [
        "'''from sklearn.preprocessing import StandardScaler\n",
        "ss = StandardScaler()\n",
        "ss.fit(X_train)\n",
        "ss.transform(X_train)\n",
        "ss.transform(X_test)'''"
      ],
      "metadata": {
        "colab": {
          "base_uri": "https://localhost:8080/",
          "height": 35
        },
        "id": "3QHlUI2e4Eh7",
        "outputId": "655f28ee-1099-4776-9313-fb59659b3d52"
      },
      "execution_count": 45,
      "outputs": [
        {
          "output_type": "execute_result",
          "data": {
            "text/plain": [
              "'from sklearn.preprocessing import StandardScaler\\nss = StandardScaler()\\nss.fit(X_train)\\nss.transform(X_train)\\nss.transform(X_test)'"
            ],
            "application/vnd.google.colaboratory.intrinsic+json": {
              "type": "string"
            }
          },
          "metadata": {},
          "execution_count": 45
        }
      ]
    },
    {
      "cell_type": "code",
      "source": [
        "'''from sklearn.metrics import accuracy_score\n",
        "from sklearn.linear_model import LogisticRegressionCV\n",
        "model = LogisticRegressionCV()\n",
        "model.fit(X_train, y_train)\n",
        "y_pred = model.predict(X_test)\n",
        "print(accuracy_score(y_test, y_pred))'''"
      ],
      "metadata": {
        "id": "CsekSIyU4tXV",
        "colab": {
          "base_uri": "https://localhost:8080/",
          "height": 53
        },
        "outputId": "02da941d-bd10-4709-a6ee-ad4c4fcfba3f"
      },
      "execution_count": 46,
      "outputs": [
        {
          "output_type": "execute_result",
          "data": {
            "text/plain": [
              "'from sklearn.metrics import accuracy_score\\nfrom sklearn.linear_model import LogisticRegressionCV\\nmodel = LogisticRegressionCV()\\nmodel.fit(X_train, y_train)\\ny_pred = model.predict(X_test)\\nprint(accuracy_score(y_test, y_pred))'"
            ],
            "application/vnd.google.colaboratory.intrinsic+json": {
              "type": "string"
            }
          },
          "metadata": {},
          "execution_count": 46
        }
      ]
    },
    {
      "cell_type": "code",
      "source": [
        "from sklearn.tree import DecisionTreeClassifier\n",
        "model = DecisionTreeClassifier()\n",
        "model.fit(X_train, y_train)\n",
        "y_pred = model.predict(X_test)\n",
        "print(accuracy_score(y_test, y_pred)*100)"
      ],
      "metadata": {
        "id": "p3AL9TK76PPH",
        "colab": {
          "base_uri": "https://localhost:8080/"
        },
        "outputId": "d196cc6f-4d69-46ee-e6d1-f59f8a30f72f"
      },
      "execution_count": 47,
      "outputs": [
        {
          "output_type": "stream",
          "name": "stdout",
          "text": [
            "75.65649396735273\n"
          ]
        }
      ]
    },
    {
      "cell_type": "code",
      "source": [
        "from sklearn.ensemble import RandomForestClassifier\n",
        "model = RandomForestClassifier()\n",
        "model.fit(X_train, y_train)\n",
        "y_pred = model.predict(X_test)\n",
        "print(accuracy_score(y_test, y_pred)*100)"
      ],
      "metadata": {
        "colab": {
          "base_uri": "https://localhost:8080/"
        },
        "id": "eHQTWPJA652I",
        "outputId": "9b03a7d8-acca-42c1-f59e-8ca82dbd42b5"
      },
      "execution_count": 48,
      "outputs": [
        {
          "output_type": "stream",
          "name": "stdout",
          "text": [
            "77.64371894960965\n"
          ]
        }
      ]
    },
    {
      "cell_type": "code",
      "source": [
        "from sklearn.svm import SVC\n",
        "model = SVC()\n",
        "model.fit(X_train, y_train)\n",
        "y_pred = model.predict(X_test)\n",
        "print(accuracy_score(y_test, y_pred)*100)"
      ],
      "metadata": {
        "colab": {
          "base_uri": "https://localhost:8080/"
        },
        "id": "g5f-OFtn8FOG",
        "outputId": "deaf478f-0f2a-4368-c273-e2a17f6629f8"
      },
      "execution_count": 49,
      "outputs": [
        {
          "output_type": "stream",
          "name": "stdout",
          "text": [
            "77.43080198722498\n"
          ]
        }
      ]
    },
    {
      "cell_type": "code",
      "source": [
        "from sklearn.neighbors import KNeighborsClassifier\n",
        "model = KNeighborsClassifier()\n",
        "model.fit(X_train, y_train)\n",
        "y_pred = model.predict(X_test)\n",
        "print(accuracy_score(y_test, y_pred)*100)"
      ],
      "metadata": {
        "colab": {
          "base_uri": "https://localhost:8080/"
        },
        "id": "eEmXCxdx9V_T",
        "outputId": "7a4073ca-a05a-44cf-de7b-c0259fe627e6"
      },
      "execution_count": 50,
      "outputs": [
        {
          "output_type": "stream",
          "name": "stdout",
          "text": [
            "75.65649396735273\n"
          ]
        }
      ]
    },
    {
      "cell_type": "code",
      "source": [
        "len(X.columns)"
      ],
      "metadata": {
        "colab": {
          "base_uri": "https://localhost:8080/"
        },
        "id": "QWrdKOimaoNL",
        "outputId": "5dc399dc-de78-4a1e-a706-f83a3d220b39"
      },
      "execution_count": 51,
      "outputs": [
        {
          "output_type": "execute_result",
          "data": {
            "text/plain": [
              "6575"
            ]
          },
          "metadata": {},
          "execution_count": 51
        }
      ]
    },
    {
      "cell_type": "code",
      "source": [
        "import tensorflow\n",
        "from tensorflow import keras\n",
        "from tensorflow.keras.layers import Dense\n",
        "from tensorflow.keras.models import Sequential"
      ],
      "metadata": {
        "id": "Nbe9VMe5Xpmm"
      },
      "execution_count": 52,
      "outputs": []
    },
    {
      "cell_type": "code",
      "source": [
        "model = Sequential()\n",
        "model.add(Dense(units=32, activation='relu', input_dim=len(X_train.columns)))\n",
        "model.add(Dense(units=64, activation='relu'))\n",
        "model.add(Dense(units=32, activation='relu'))\n",
        "model.add(Dense(units=64, activation='relu'))\n",
        "model.add(Dense(units=1, activation='sigmoid'))"
      ],
      "metadata": {
        "id": "ycamujt0X8Bs"
      },
      "execution_count": 85,
      "outputs": []
    },
    {
      "cell_type": "code",
      "source": [
        "model.compile(loss='binary_crossentropy', optimizer='sgd', metrics='accuracy')"
      ],
      "metadata": {
        "id": "Tm5fnbkGkYWH"
      },
      "execution_count": 86,
      "outputs": []
    },
    {
      "cell_type": "code",
      "source": [
        "History = model.fit(X_train,y_train, epochs=50, batch_size=10, validation_data = (X_test, y_test))"
      ],
      "metadata": {
        "colab": {
          "base_uri": "https://localhost:8080/"
        },
        "id": "2P5Tc4o5kdsP",
        "outputId": "05554b90-6e0c-4adc-bb86-ef328d230b97"
      },
      "execution_count": 91,
      "outputs": [
        {
          "output_type": "stream",
          "name": "stdout",
          "text": [
            "Epoch 1/50\n",
            "564/564 [==============================] - 2s 4ms/step - loss: 0.4668 - accuracy: 0.7789 - val_loss: 0.4594 - val_accuracy: 0.7842\n",
            "Epoch 2/50\n",
            "564/564 [==============================] - 2s 4ms/step - loss: 0.4613 - accuracy: 0.7824 - val_loss: 0.4909 - val_accuracy: 0.7637\n",
            "Epoch 3/50\n",
            "564/564 [==============================] - 2s 4ms/step - loss: 0.4554 - accuracy: 0.7814 - val_loss: 0.4605 - val_accuracy: 0.7743\n",
            "Epoch 4/50\n",
            "564/564 [==============================] - 3s 6ms/step - loss: 0.4523 - accuracy: 0.7867 - val_loss: 0.4997 - val_accuracy: 0.7502\n",
            "Epoch 5/50\n",
            "564/564 [==============================] - 2s 4ms/step - loss: 0.4521 - accuracy: 0.7881 - val_loss: 0.4637 - val_accuracy: 0.7708\n",
            "Epoch 6/50\n",
            "564/564 [==============================] - 2s 4ms/step - loss: 0.4501 - accuracy: 0.7890 - val_loss: 0.4831 - val_accuracy: 0.7622\n",
            "Epoch 7/50\n",
            "564/564 [==============================] - 2s 4ms/step - loss: 0.4478 - accuracy: 0.7867 - val_loss: 0.4751 - val_accuracy: 0.7686\n",
            "Epoch 8/50\n",
            "564/564 [==============================] - 2s 4ms/step - loss: 0.4474 - accuracy: 0.7892 - val_loss: 0.4630 - val_accuracy: 0.7637\n",
            "Epoch 9/50\n",
            "564/564 [==============================] - 3s 6ms/step - loss: 0.4462 - accuracy: 0.7920 - val_loss: 0.4570 - val_accuracy: 0.7821\n",
            "Epoch 10/50\n",
            "564/564 [==============================] - 2s 4ms/step - loss: 0.4468 - accuracy: 0.7906 - val_loss: 0.4592 - val_accuracy: 0.7779\n",
            "Epoch 11/50\n",
            "564/564 [==============================] - 2s 4ms/step - loss: 0.4424 - accuracy: 0.7929 - val_loss: 0.4635 - val_accuracy: 0.7715\n",
            "Epoch 12/50\n",
            "564/564 [==============================] - 2s 4ms/step - loss: 0.4443 - accuracy: 0.7892 - val_loss: 0.4589 - val_accuracy: 0.7821\n",
            "Epoch 13/50\n",
            "564/564 [==============================] - 2s 4ms/step - loss: 0.4444 - accuracy: 0.7828 - val_loss: 0.4591 - val_accuracy: 0.7693\n",
            "Epoch 14/50\n",
            "564/564 [==============================] - 4s 7ms/step - loss: 0.4424 - accuracy: 0.7853 - val_loss: 0.4569 - val_accuracy: 0.7771\n",
            "Epoch 15/50\n",
            "564/564 [==============================] - 3s 5ms/step - loss: 0.4407 - accuracy: 0.7911 - val_loss: 0.4517 - val_accuracy: 0.7736\n",
            "Epoch 16/50\n",
            "564/564 [==============================] - 2s 4ms/step - loss: 0.4429 - accuracy: 0.7904 - val_loss: 0.4563 - val_accuracy: 0.7800\n",
            "Epoch 17/50\n",
            "564/564 [==============================] - 2s 4ms/step - loss: 0.4417 - accuracy: 0.7931 - val_loss: 0.4576 - val_accuracy: 0.7800\n",
            "Epoch 18/50\n",
            "564/564 [==============================] - 3s 5ms/step - loss: 0.4405 - accuracy: 0.7888 - val_loss: 0.4531 - val_accuracy: 0.7857\n",
            "Epoch 19/50\n",
            "564/564 [==============================] - 3s 5ms/step - loss: 0.4410 - accuracy: 0.7929 - val_loss: 0.4523 - val_accuracy: 0.7821\n",
            "Epoch 20/50\n",
            "564/564 [==============================] - 2s 4ms/step - loss: 0.4383 - accuracy: 0.7952 - val_loss: 0.4620 - val_accuracy: 0.7743\n",
            "Epoch 21/50\n",
            "564/564 [==============================] - 2s 4ms/step - loss: 0.4390 - accuracy: 0.7876 - val_loss: 0.4733 - val_accuracy: 0.7722\n",
            "Epoch 22/50\n",
            "564/564 [==============================] - 2s 4ms/step - loss: 0.4374 - accuracy: 0.7908 - val_loss: 0.4554 - val_accuracy: 0.7779\n",
            "Epoch 23/50\n",
            "564/564 [==============================] - 3s 6ms/step - loss: 0.4397 - accuracy: 0.7879 - val_loss: 0.5131 - val_accuracy: 0.7480\n",
            "Epoch 24/50\n",
            "564/564 [==============================] - 3s 5ms/step - loss: 0.4391 - accuracy: 0.7901 - val_loss: 0.4484 - val_accuracy: 0.7814\n",
            "Epoch 25/50\n",
            "564/564 [==============================] - 2s 4ms/step - loss: 0.4371 - accuracy: 0.7924 - val_loss: 0.4577 - val_accuracy: 0.7814\n",
            "Epoch 26/50\n",
            "564/564 [==============================] - 2s 4ms/step - loss: 0.4371 - accuracy: 0.7922 - val_loss: 0.4531 - val_accuracy: 0.7800\n",
            "Epoch 27/50\n",
            "564/564 [==============================] - 2s 4ms/step - loss: 0.4363 - accuracy: 0.7922 - val_loss: 0.4484 - val_accuracy: 0.7892\n",
            "Epoch 28/50\n",
            "564/564 [==============================] - 3s 6ms/step - loss: 0.4335 - accuracy: 0.7936 - val_loss: 0.4471 - val_accuracy: 0.7814\n",
            "Epoch 29/50\n",
            "564/564 [==============================] - 2s 4ms/step - loss: 0.4346 - accuracy: 0.7918 - val_loss: 0.4516 - val_accuracy: 0.7864\n",
            "Epoch 30/50\n",
            "564/564 [==============================] - 2s 4ms/step - loss: 0.4347 - accuracy: 0.7917 - val_loss: 0.4754 - val_accuracy: 0.7722\n",
            "Epoch 31/50\n",
            "564/564 [==============================] - 2s 4ms/step - loss: 0.4344 - accuracy: 0.7925 - val_loss: 0.4562 - val_accuracy: 0.7786\n",
            "Epoch 32/50\n",
            "564/564 [==============================] - 2s 4ms/step - loss: 0.4353 - accuracy: 0.7929 - val_loss: 0.4427 - val_accuracy: 0.7871\n",
            "Epoch 33/50\n",
            "564/564 [==============================] - 3s 6ms/step - loss: 0.4348 - accuracy: 0.7936 - val_loss: 0.4431 - val_accuracy: 0.7828\n",
            "Epoch 34/50\n",
            "564/564 [==============================] - 2s 4ms/step - loss: 0.4341 - accuracy: 0.7895 - val_loss: 0.4435 - val_accuracy: 0.7842\n",
            "Epoch 35/50\n",
            "564/564 [==============================] - 2s 4ms/step - loss: 0.4350 - accuracy: 0.7989 - val_loss: 0.4605 - val_accuracy: 0.7828\n",
            "Epoch 36/50\n",
            "564/564 [==============================] - 3s 4ms/step - loss: 0.4359 - accuracy: 0.7929 - val_loss: 0.4847 - val_accuracy: 0.7644\n",
            "Epoch 37/50\n",
            "564/564 [==============================] - 3s 5ms/step - loss: 0.4329 - accuracy: 0.7936 - val_loss: 0.4748 - val_accuracy: 0.7672\n",
            "Epoch 38/50\n",
            "564/564 [==============================] - 3s 6ms/step - loss: 0.4331 - accuracy: 0.7920 - val_loss: 0.4626 - val_accuracy: 0.7793\n",
            "Epoch 39/50\n",
            "564/564 [==============================] - 3s 5ms/step - loss: 0.4308 - accuracy: 0.7936 - val_loss: 0.4438 - val_accuracy: 0.7878\n",
            "Epoch 40/50\n",
            "564/564 [==============================] - 3s 5ms/step - loss: 0.4315 - accuracy: 0.7899 - val_loss: 0.4505 - val_accuracy: 0.7828\n",
            "Epoch 41/50\n",
            "564/564 [==============================] - 2s 4ms/step - loss: 0.4307 - accuracy: 0.7899 - val_loss: 0.4450 - val_accuracy: 0.7850\n",
            "Epoch 42/50\n",
            "564/564 [==============================] - 4s 6ms/step - loss: 0.4325 - accuracy: 0.7934 - val_loss: 0.4577 - val_accuracy: 0.7850\n",
            "Epoch 43/50\n",
            "564/564 [==============================] - 2s 4ms/step - loss: 0.4307 - accuracy: 0.7950 - val_loss: 0.4424 - val_accuracy: 0.7899\n",
            "Epoch 44/50\n",
            "564/564 [==============================] - 2s 4ms/step - loss: 0.4300 - accuracy: 0.7961 - val_loss: 0.4644 - val_accuracy: 0.7835\n",
            "Epoch 45/50\n",
            "564/564 [==============================] - 3s 5ms/step - loss: 0.4312 - accuracy: 0.7941 - val_loss: 0.4435 - val_accuracy: 0.7857\n",
            "Epoch 46/50\n",
            "564/564 [==============================] - 3s 4ms/step - loss: 0.4301 - accuracy: 0.7986 - val_loss: 0.4473 - val_accuracy: 0.7828\n",
            "Epoch 47/50\n",
            "564/564 [==============================] - 3s 6ms/step - loss: 0.4281 - accuracy: 0.7954 - val_loss: 0.4494 - val_accuracy: 0.7800\n",
            "Epoch 48/50\n",
            "564/564 [==============================] - 2s 4ms/step - loss: 0.4291 - accuracy: 0.7938 - val_loss: 0.4410 - val_accuracy: 0.7892\n",
            "Epoch 49/50\n",
            "564/564 [==============================] - 2s 4ms/step - loss: 0.4278 - accuracy: 0.7988 - val_loss: 0.4522 - val_accuracy: 0.7842\n",
            "Epoch 50/50\n",
            "564/564 [==============================] - 2s 4ms/step - loss: 0.4280 - accuracy: 0.7954 - val_loss: 0.4533 - val_accuracy: 0.7892\n"
          ]
        }
      ]
    },
    {
      "cell_type": "code",
      "source": [
        "y_pred = model.predict(X_test)\n",
        "y_pred = [1 if val > 0.5  else 0 for val in y_pred]\n",
        "print('Accuracy of model using ANN :',accuracy_score(y_test, y_pred)*100)"
      ],
      "metadata": {
        "colab": {
          "base_uri": "https://localhost:8080/"
        },
        "id": "d3BteuTnX8Kr",
        "outputId": "b4074ab8-b682-4c3c-d126-3e42ee9114d1"
      },
      "execution_count": 101,
      "outputs": [
        {
          "output_type": "stream",
          "name": "stdout",
          "text": [
            "45/45 [==============================] - 0s 4ms/step\n",
            "Accuracy of model using ANN : 78.92122072391767\n"
          ]
        }
      ]
    },
    {
      "cell_type": "code",
      "source": [
        "fig = plt.figure()\n",
        "plt.plot(History.history['loss'], color='teal', label='Training Loss')\n",
        "plt.plot(History.history['val_loss'], color='orange', label='Validation Loss')\n",
        "plt.title('Loss')\n",
        "plt.xlabel('Epochs')\n",
        "plt.ylabel('Loss')\n",
        "plt.legend(loc='upper right')\n",
        "plt.show()"
      ],
      "metadata": {
        "colab": {
          "base_uri": "https://localhost:8080/",
          "height": 472
        },
        "id": "RQaTbxYAX8Py",
        "outputId": "887f6d13-a87d-477d-80b8-a33bf506085e"
      },
      "execution_count": 93,
      "outputs": [
        {
          "output_type": "display_data",
          "data": {
            "text/plain": [
              "<Figure size 640x480 with 1 Axes>"
            ],
            "image/png": "[encoded data removed]"
          },
          "metadata": {}
        }
      ]
    },
    {
      "cell_type": "code",
      "source": [
        "fig = plt.figure()\n",
        "plt.plot(History.history['accuracy'], color='teal', label='accuracy')\n",
        "plt.plot(History.history['val_accuracy'], color='orange', label='val_accuracy')\n",
        "fig.suptitle('Accuracy', fontsize=20)\n",
        "plt.legend(loc=\"upper left\")\n",
        "plt.show()"
      ],
      "metadata": {
        "colab": {
          "base_uri": "https://localhost:8080/",
          "height": 478
        },
        "id": "LcnxAV0FX8Se",
        "outputId": "bceea59f-e426-4d1f-b2de-f3016fa5578b"
      },
      "execution_count": 94,
      "outputs": [
        {
          "output_type": "display_data",
          "data": {
            "text/plain": [
              "<Figure size 640x480 with 1 Axes>"
            ],
            "image/png": "[encoded data removed]"
          },
          "metadata": {}
        }
      ]
    },
    {
      "cell_type": "markdown",
      "source": [
        "## **Accuracy of model using ANN is approx 79%. Other then ANN, Random forest works well in this dataset.**"
      ],
      "metadata": {
        "id": "wH-4d398pVgx"
      }
    },
    {
      "cell_type": "code",
      "source": [],
      "metadata": {
        "id": "h0QD_8MdieGC"
      },
      "execution_count": 60,
      "outputs": []
    }
  ]
}