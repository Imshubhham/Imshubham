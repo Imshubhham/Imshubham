{
  "nbformat": 4,
  "nbformat_minor": 0,
  "metadata": {
    "colab": {
      "provenance": [],
      "authorship_tag": "ABX9TyNM6i0pT4twLTKqR+ifz9KO",
      "include_colab_link": true
    },
    "kernelspec": {
      "name": "python3",
      "display_name": "Python 3"
    },
    "language_info": {
      "name": "python"
    }
  },
  "cells": [
    {
      "cell_type": "markdown",
      "metadata": {
        "id": "view-in-github",
        "colab_type": "text"
      },
      "source": [
        "<a href=\"https://colab.research.google.com/github/Imshubhham/Imshubham/blob/main/S%26P_500_Stock__dataset.ipynb\" target=\"_parent\"><img src=\"https://colab.research.google.com/assets/colab-badge.svg\" alt=\"Open In Colab\"/></a>"
      ]
    },
    {
      "cell_type": "markdown",
      "source": [
        "From Standard and poor's dataset using APPLE data to apply Time series"
      ],
      "metadata": {
        "id": "ioIOeS00bVmz"
      }
    },
    {
      "cell_type": "code",
      "source": [
        "import numpy as np\n",
        "import pandas as pd\n",
        "import matplotlib.pyplot as plt\n",
        "import seaborn as sns"
      ],
      "metadata": {
        "id": "eTpWyVLo-cGH"
      },
      "execution_count": 3,
      "outputs": []
    },
    {
      "cell_type": "code",
      "source": [
        "df = pd.read_csv('/content/all_stocks_5yr.csv')"
      ],
      "metadata": {
        "id": "kVASxQxu_7C0"
      },
      "execution_count": 4,
      "outputs": []
    },
    {
      "cell_type": "code",
      "source": [
        "df.head()"
      ],
      "metadata": {
        "colab": {
          "base_uri": "https://localhost:8080/",
          "height": 206
        },
        "id": "wqBY1D5RAByF",
        "outputId": "47e92b9c-6fc1-4539-c726-7ce170a86474"
      },
      "execution_count": 5,
      "outputs": [
        {
          "output_type": "execute_result",
          "data": {
            "text/plain": [
              "         date   open   high    low  close      volume Name\n",
              "0  2013-02-08  15.07  15.12  14.63  14.75   8407500.0  AAL\n",
              "1  2013-02-11  14.89  15.01  14.26  14.46   8882000.0  AAL\n",
              "2  2013-02-12  14.45  14.51  14.10  14.27   8126000.0  AAL\n",
              "3  2013-02-13  14.30  14.94  14.25  14.66  10259500.0  AAL\n",
              "4  2013-02-14  14.94  14.96  13.16  13.99  31879900.0  AAL"
            ],
            "text/html": [
              "\n",
              "\n",
              "  <div id=\"df-a009a069-7e0e-4ea5-99ed-b7353e67a474\">\n",
              "    <div class=\"colab-df-container\">\n",
              "      <div>\n",
              "<style scoped>\n",
              "    .dataframe tbody tr th:only-of-type {\n",
              "        vertical-align: middle;\n",
              "    }\n",
              "\n",
              "    .dataframe tbody tr th {\n",
              "        vertical-align: top;\n",
              "    }\n",
              "\n",
              "    .dataframe thead th {\n",
              "        text-align: right;\n",
              "    }\n",
              "</style>\n",
              "<table border=\"1\" class=\"dataframe\">\n",
              "  <thead>\n",
              "    <tr style=\"text-align: right;\">\n",
              "      <th></th>\n",
              "      <th>date</th>\n",
              "      <th>open</th>\n",
              "      <th>high</th>\n",
              "      <th>low</th>\n",
              "      <th>close</th>\n",
              "      <th>volume</th>\n",
              "      <th>Name</th>\n",
              "    </tr>\n",
              "  </thead>\n",
              "  <tbody>\n",
              "    <tr>\n",
              "      <th>0</th>\n",
              "      <td>2013-02-08</td>\n",
              "      <td>15.07</td>\n",
              "      <td>15.12</td>\n",
              "      <td>14.63</td>\n",
              "      <td>14.75</td>\n",
              "      <td>8407500.0</td>\n",
              "      <td>AAL</td>\n",
              "    </tr>\n",
              "    <tr>\n",
              "      <th>1</th>\n",
              "      <td>2013-02-11</td>\n",
              "      <td>14.89</td>\n",
              "      <td>15.01</td>\n",
              "      <td>14.26</td>\n",
              "      <td>14.46</td>\n",
              "      <td>8882000.0</td>\n",
              "      <td>AAL</td>\n",
              "    </tr>\n",
              "    <tr>\n",
              "      <th>2</th>\n",
              "      <td>2013-02-12</td>\n",
              "      <td>14.45</td>\n",
              "      <td>14.51</td>\n",
              "      <td>14.10</td>\n",
              "      <td>14.27</td>\n",
              "      <td>8126000.0</td>\n",
              "      <td>AAL</td>\n",
              "    </tr>\n",
              "    <tr>\n",
              "      <th>3</th>\n",
              "      <td>2013-02-13</td>\n",
              "      <td>14.30</td>\n",
              "      <td>14.94</td>\n",
              "      <td>14.25</td>\n",
              "      <td>14.66</td>\n",
              "      <td>10259500.0</td>\n",
              "      <td>AAL</td>\n",
              "    </tr>\n",
              "    <tr>\n",
              "      <th>4</th>\n",
              "      <td>2013-02-14</td>\n",
              "      <td>14.94</td>\n",
              "      <td>14.96</td>\n",
              "      <td>13.16</td>\n",
              "      <td>13.99</td>\n",
              "      <td>31879900.0</td>\n",
              "      <td>AAL</td>\n",
              "    </tr>\n",
              "  </tbody>\n",
              "</table>\n",
              "</div>\n",
              "      <button class=\"colab-df-convert\" onclick=\"convertToInteractive('df-a009a069-7e0e-4ea5-99ed-b7353e67a474')\"\n",
              "              title=\"Convert this dataframe to an interactive table.\"\n",
              "              style=\"display:none;\">\n",
              "\n",
              "  <svg xmlns=\"http://www.w3.org/2000/svg\" height=\"24px\"viewBox=\"0 0 24 24\"\n",
              "       width=\"24px\">\n",
              "    <path d=\"M0 0h24v24H0V0z\" fill=\"none\"/>\n",
              "    <path d=\"M18.56 5.44l.94 2.06.94-2.06 2.06-.94-2.06-.94-.94-2.06-.94 2.06-2.06.94zm-11 1L8.5 8.5l.94-2.06 2.06-.94-2.06-.94L8.5 2.5l-.94 2.06-2.06.94zm10 10l.94 2.06.94-2.06 2.06-.94-2.06-.94-.94-2.06-.94 2.06-2.06.94z\"/><path d=\"M17.41 7.96l-1.37-1.37c-.4-.4-.92-.59-1.43-.59-.52 0-1.04.2-1.43.59L10.3 9.45l-7.72 7.72c-.78.78-.78 2.05 0 2.83L4 21.41c.39.39.9.59 1.41.59.51 0 1.02-.2 1.41-.59l7.78-7.78 2.81-2.81c.8-.78.8-2.07 0-2.86zM5.41 20L4 18.59l7.72-7.72 1.47 1.35L5.41 20z\"/>\n",
              "  </svg>\n",
              "      </button>\n",
              "\n",
              "\n",
              "\n",
              "    <div id=\"df-1f4410a9-f2ca-4b19-8010-d95db5a72435\">\n",
              "      <button class=\"colab-df-quickchart\" onclick=\"quickchart('df-1f4410a9-f2ca-4b19-8010-d95db5a72435')\"\n",
              "              title=\"Suggest charts.\"\n",
              "              style=\"display:none;\">\n",
              "\n",
              "<svg xmlns=\"http://www.w3.org/2000/svg\" height=\"24px\"viewBox=\"0 0 24 24\"\n",
              "     width=\"24px\">\n",
              "    <g>\n",
              "        <path d=\"M19 3H5c-1.1 0-2 .9-2 2v14c0 1.1.9 2 2 2h14c1.1 0 2-.9 2-2V5c0-1.1-.9-2-2-2zM9 17H7v-7h2v7zm4 0h-2V7h2v10zm4 0h-2v-4h2v4z\"/>\n",
              "    </g>\n",
              "</svg>\n",
              "      </button>\n",
              "    </div>\n",
              "\n",
              "<style>\n",
              "  .colab-df-quickchart {\n",
              "    background-color: #E8F0FE;\n",
              "    border: none;\n",
              "    border-radius: 50%;\n",
              "    cursor: pointer;\n",
              "    display: none;\n",
              "    fill: #1967D2;\n",
              "    height: 32px;\n",
              "    padding: 0 0 0 0;\n",
              "    width: 32px;\n",
              "  }\n",
              "\n",
              "  .colab-df-quickchart:hover {\n",
              "    background-color: #E2EBFA;\n",
              "    box-shadow: 0px 1px 2px rgba(60, 64, 67, 0.3), 0px 1px 3px 1px rgba(60, 64, 67, 0.15);\n",
              "    fill: #174EA6;\n",
              "  }\n",
              "\n",
              "  [theme=dark] .colab-df-quickchart {\n",
              "    background-color: #3B4455;\n",
              "    fill: #D2E3FC;\n",
              "  }\n",
              "\n",
              "  [theme=dark] .colab-df-quickchart:hover {\n",
              "    background-color: #434B5C;\n",
              "    box-shadow: 0px 1px 3px 1px rgba(0, 0, 0, 0.15);\n",
              "    filter: drop-shadow(0px 1px 2px rgba(0, 0, 0, 0.3));\n",
              "    fill: #FFFFFF;\n",
              "  }\n",
              "</style>\n",
              "\n",
              "    <script>\n",
              "      async function quickchart(key) {\n",
              "        const containerElement = document.querySelector('#' + key);\n",
              "        const charts = await google.colab.kernel.invokeFunction(\n",
              "            'suggestCharts', [key], {});\n",
              "      }\n",
              "    </script>\n",
              "\n",
              "      <script>\n",
              "\n",
              "function displayQuickchartButton(domScope) {\n",
              "  let quickchartButtonEl =\n",
              "    domScope.querySelector('#df-1f4410a9-f2ca-4b19-8010-d95db5a72435 button.colab-df-quickchart');\n",
              "  quickchartButtonEl.style.display =\n",
              "    google.colab.kernel.accessAllowed ? 'block' : 'none';\n",
              "}\n",
              "\n",
              "        displayQuickchartButton(document);\n",
              "      </script>\n",
              "      <style>\n",
              "    .colab-df-container {\n",
              "      display:flex;\n",
              "      flex-wrap:wrap;\n",
              "      gap: 12px;\n",
              "    }\n",
              "\n",
              "    .colab-df-convert {\n",
              "      background-color: #E8F0FE;\n",
              "      border: none;\n",
              "      border-radius: 50%;\n",
              "      cursor: pointer;\n",
              "      display: none;\n",
              "      fill: #1967D2;\n",
              "      height: 32px;\n",
              "      padding: 0 0 0 0;\n",
              "      width: 32px;\n",
              "    }\n",
              "\n",
              "    .colab-df-convert:hover {\n",
              "      background-color: #E2EBFA;\n",
              "      box-shadow: 0px 1px 2px rgba(60, 64, 67, 0.3), 0px 1px 3px 1px rgba(60, 64, 67, 0.15);\n",
              "      fill: #174EA6;\n",
              "    }\n",
              "\n",
              "    [theme=dark] .colab-df-convert {\n",
              "      background-color: #3B4455;\n",
              "      fill: #D2E3FC;\n",
              "    }\n",
              "\n",
              "    [theme=dark] .colab-df-convert:hover {\n",
              "      background-color: #434B5C;\n",
              "      box-shadow: 0px 1px 3px 1px rgba(0, 0, 0, 0.15);\n",
              "      filter: drop-shadow(0px 1px 2px rgba(0, 0, 0, 0.3));\n",
              "      fill: #FFFFFF;\n",
              "    }\n",
              "  </style>\n",
              "\n",
              "      <script>\n",
              "        const buttonEl =\n",
              "          document.querySelector('#df-a009a069-7e0e-4ea5-99ed-b7353e67a474 button.colab-df-convert');\n",
              "        buttonEl.style.display =\n",
              "          google.colab.kernel.accessAllowed ? 'block' : 'none';\n",
              "\n",
              "        async function convertToInteractive(key) {\n",
              "          const element = document.querySelector('#df-a009a069-7e0e-4ea5-99ed-b7353e67a474');\n",
              "          const dataTable =\n",
              "            await google.colab.kernel.invokeFunction('convertToInteractive',\n",
              "                                                     [key], {});\n",
              "          if (!dataTable) return;\n",
              "\n",
              "          const docLinkHtml = 'Like what you see? Visit the ' +\n",
              "            '<a target=\"_blank\" href=https://colab.research.google.com/notebooks/data_table.ipynb>data table notebook</a>'\n",
              "            + ' to learn more about interactive tables.';\n",
              "          element.innerHTML = '';\n",
              "          dataTable['output_type'] = 'display_data';\n",
              "          await google.colab.output.renderOutput(dataTable, element);\n",
              "          const docLink = document.createElement('div');\n",
              "          docLink.innerHTML = docLinkHtml;\n",
              "          element.appendChild(docLink);\n",
              "        }\n",
              "      </script>\n",
              "    </div>\n",
              "  </div>\n"
            ]
          },
          "metadata": {},
          "execution_count": 5
        }
      ]
    },
    {
      "cell_type": "code",
      "source": [
        "df.describe()"
      ],
      "metadata": {
        "colab": {
          "base_uri": "https://localhost:8080/",
          "height": 300
        },
        "id": "lLT9t0jEAB04",
        "outputId": "cc216288-7b0d-4730-9fd3-5e030aa5e969"
      },
      "execution_count": 6,
      "outputs": [
        {
          "output_type": "execute_result",
          "data": {
            "text/plain": [
              "               open          high           low         close        volume\n",
              "count  65342.000000  65342.000000  65342.000000  65341.000000  6.534100e+04\n",
              "mean      93.260081     94.150787     92.339812     93.280038  4.494025e+06\n",
              "std       94.898786     95.734445     93.955955     94.892024  1.084983e+07\n",
              "min        1.620000      1.690000      1.610000      1.620000  7.802900e+04\n",
              "25%       47.862500     48.300000     47.400000     47.870000  9.984490e+05\n",
              "50%       69.070000     69.700000     68.560000     69.130000  1.918844e+06\n",
              "75%      111.280000    112.313750    110.187500    111.340000  3.817714e+06\n",
              "max     1477.390000   1498.000000   1450.040000   1450.890000  2.683365e+08"
            ],
            "text/html": [
              "\n",
              "\n",
              "  <div id=\"df-477f2f6e-63be-4035-8c0d-5923192747e0\">\n",
              "    <div class=\"colab-df-container\">\n",
              "      <div>\n",
              "<style scoped>\n",
              "    .dataframe tbody tr th:only-of-type {\n",
              "        vertical-align: middle;\n",
              "    }\n",
              "\n",
              "    .dataframe tbody tr th {\n",
              "        vertical-align: top;\n",
              "    }\n",
              "\n",
              "    .dataframe thead th {\n",
              "        text-align: right;\n",
              "    }\n",
              "</style>\n",
              "<table border=\"1\" class=\"dataframe\">\n",
              "  <thead>\n",
              "    <tr style=\"text-align: right;\">\n",
              "      <th></th>\n",
              "      <th>open</th>\n",
              "      <th>high</th>\n",
              "      <th>low</th>\n",
              "      <th>close</th>\n",
              "      <th>volume</th>\n",
              "    </tr>\n",
              "  </thead>\n",
              "  <tbody>\n",
              "    <tr>\n",
              "      <th>count</th>\n",
              "      <td>65342.000000</td>\n",
              "      <td>65342.000000</td>\n",
              "      <td>65342.000000</td>\n",
              "      <td>65341.000000</td>\n",
              "      <td>6.534100e+04</td>\n",
              "    </tr>\n",
              "    <tr>\n",
              "      <th>mean</th>\n",
              "      <td>93.260081</td>\n",
              "      <td>94.150787</td>\n",
              "      <td>92.339812</td>\n",
              "      <td>93.280038</td>\n",
              "      <td>4.494025e+06</td>\n",
              "    </tr>\n",
              "    <tr>\n",
              "      <th>std</th>\n",
              "      <td>94.898786</td>\n",
              "      <td>95.734445</td>\n",
              "      <td>93.955955</td>\n",
              "      <td>94.892024</td>\n",
              "      <td>1.084983e+07</td>\n",
              "    </tr>\n",
              "    <tr>\n",
              "      <th>min</th>\n",
              "      <td>1.620000</td>\n",
              "      <td>1.690000</td>\n",
              "      <td>1.610000</td>\n",
              "      <td>1.620000</td>\n",
              "      <td>7.802900e+04</td>\n",
              "    </tr>\n",
              "    <tr>\n",
              "      <th>25%</th>\n",
              "      <td>47.862500</td>\n",
              "      <td>48.300000</td>\n",
              "      <td>47.400000</td>\n",
              "      <td>47.870000</td>\n",
              "      <td>9.984490e+05</td>\n",
              "    </tr>\n",
              "    <tr>\n",
              "      <th>50%</th>\n",
              "      <td>69.070000</td>\n",
              "      <td>69.700000</td>\n",
              "      <td>68.560000</td>\n",
              "      <td>69.130000</td>\n",
              "      <td>1.918844e+06</td>\n",
              "    </tr>\n",
              "    <tr>\n",
              "      <th>75%</th>\n",
              "      <td>111.280000</td>\n",
              "      <td>112.313750</td>\n",
              "      <td>110.187500</td>\n",
              "      <td>111.340000</td>\n",
              "      <td>3.817714e+06</td>\n",
              "    </tr>\n",
              "    <tr>\n",
              "      <th>max</th>\n",
              "      <td>1477.390000</td>\n",
              "      <td>1498.000000</td>\n",
              "      <td>1450.040000</td>\n",
              "      <td>1450.890000</td>\n",
              "      <td>2.683365e+08</td>\n",
              "    </tr>\n",
              "  </tbody>\n",
              "</table>\n",
              "</div>\n",
              "      <button class=\"colab-df-convert\" onclick=\"convertToInteractive('df-477f2f6e-63be-4035-8c0d-5923192747e0')\"\n",
              "              title=\"Convert this dataframe to an interactive table.\"\n",
              "              style=\"display:none;\">\n",
              "\n",
              "  <svg xmlns=\"http://www.w3.org/2000/svg\" height=\"24px\"viewBox=\"0 0 24 24\"\n",
              "       width=\"24px\">\n",
              "    <path d=\"M0 0h24v24H0V0z\" fill=\"none\"/>\n",
              "    <path d=\"M18.56 5.44l.94 2.06.94-2.06 2.06-.94-2.06-.94-.94-2.06-.94 2.06-2.06.94zm-11 1L8.5 8.5l.94-2.06 2.06-.94-2.06-.94L8.5 2.5l-.94 2.06-2.06.94zm10 10l.94 2.06.94-2.06 2.06-.94-2.06-.94-.94-2.06-.94 2.06-2.06.94z\"/><path d=\"M17.41 7.96l-1.37-1.37c-.4-.4-.92-.59-1.43-.59-.52 0-1.04.2-1.43.59L10.3 9.45l-7.72 7.72c-.78.78-.78 2.05 0 2.83L4 21.41c.39.39.9.59 1.41.59.51 0 1.02-.2 1.41-.59l7.78-7.78 2.81-2.81c.8-.78.8-2.07 0-2.86zM5.41 20L4 18.59l7.72-7.72 1.47 1.35L5.41 20z\"/>\n",
              "  </svg>\n",
              "      </button>\n",
              "\n",
              "\n",
              "\n",
              "    <div id=\"df-1d1ffc78-814a-4dd6-87ff-d39675e2a59d\">\n",
              "      <button class=\"colab-df-quickchart\" onclick=\"quickchart('df-1d1ffc78-814a-4dd6-87ff-d39675e2a59d')\"\n",
              "              title=\"Suggest charts.\"\n",
              "              style=\"display:none;\">\n",
              "\n",
              "<svg xmlns=\"http://www.w3.org/2000/svg\" height=\"24px\"viewBox=\"0 0 24 24\"\n",
              "     width=\"24px\">\n",
              "    <g>\n",
              "        <path d=\"M19 3H5c-1.1 0-2 .9-2 2v14c0 1.1.9 2 2 2h14c1.1 0 2-.9 2-2V5c0-1.1-.9-2-2-2zM9 17H7v-7h2v7zm4 0h-2V7h2v10zm4 0h-2v-4h2v4z\"/>\n",
              "    </g>\n",
              "</svg>\n",
              "      </button>\n",
              "    </div>\n",
              "\n",
              "<style>\n",
              "  .colab-df-quickchart {\n",
              "    background-color: #E8F0FE;\n",
              "    border: none;\n",
              "    border-radius: 50%;\n",
              "    cursor: pointer;\n",
              "    display: none;\n",
              "    fill: #1967D2;\n",
              "    height: 32px;\n",
              "    padding: 0 0 0 0;\n",
              "    width: 32px;\n",
              "  }\n",
              "\n",
              "  .colab-df-quickchart:hover {\n",
              "    background-color: #E2EBFA;\n",
              "    box-shadow: 0px 1px 2px rgba(60, 64, 67, 0.3), 0px 1px 3px 1px rgba(60, 64, 67, 0.15);\n",
              "    fill: #174EA6;\n",
              "  }\n",
              "\n",
              "  [theme=dark] .colab-df-quickchart {\n",
              "    background-color: #3B4455;\n",
              "    fill: #D2E3FC;\n",
              "  }\n",
              "\n",
              "  [theme=dark] .colab-df-quickchart:hover {\n",
              "    background-color: #434B5C;\n",
              "    box-shadow: 0px 1px 3px 1px rgba(0, 0, 0, 0.15);\n",
              "    filter: drop-shadow(0px 1px 2px rgba(0, 0, 0, 0.3));\n",
              "    fill: #FFFFFF;\n",
              "  }\n",
              "</style>\n",
              "\n",
              "    <script>\n",
              "      async function quickchart(key) {\n",
              "        const containerElement = document.querySelector('#' + key);\n",
              "        const charts = await google.colab.kernel.invokeFunction(\n",
              "            'suggestCharts', [key], {});\n",
              "      }\n",
              "    </script>\n",
              "\n",
              "      <script>\n",
              "\n",
              "function displayQuickchartButton(domScope) {\n",
              "  let quickchartButtonEl =\n",
              "    domScope.querySelector('#df-1d1ffc78-814a-4dd6-87ff-d39675e2a59d button.colab-df-quickchart');\n",
              "  quickchartButtonEl.style.display =\n",
              "    google.colab.kernel.accessAllowed ? 'block' : 'none';\n",
              "}\n",
              "\n",
              "        displayQuickchartButton(document);\n",
              "      </script>\n",
              "      <style>\n",
              "    .colab-df-container {\n",
              "      display:flex;\n",
              "      flex-wrap:wrap;\n",
              "      gap: 12px;\n",
              "    }\n",
              "\n",
              "    .colab-df-convert {\n",
              "      background-color: #E8F0FE;\n",
              "      border: none;\n",
              "      border-radius: 50%;\n",
              "      cursor: pointer;\n",
              "      display: none;\n",
              "      fill: #1967D2;\n",
              "      height: 32px;\n",
              "      padding: 0 0 0 0;\n",
              "      width: 32px;\n",
              "    }\n",
              "\n",
              "    .colab-df-convert:hover {\n",
              "      background-color: #E2EBFA;\n",
              "      box-shadow: 0px 1px 2px rgba(60, 64, 67, 0.3), 0px 1px 3px 1px rgba(60, 64, 67, 0.15);\n",
              "      fill: #174EA6;\n",
              "    }\n",
              "\n",
              "    [theme=dark] .colab-df-convert {\n",
              "      background-color: #3B4455;\n",
              "      fill: #D2E3FC;\n",
              "    }\n",
              "\n",
              "    [theme=dark] .colab-df-convert:hover {\n",
              "      background-color: #434B5C;\n",
              "      box-shadow: 0px 1px 3px 1px rgba(0, 0, 0, 0.15);\n",
              "      filter: drop-shadow(0px 1px 2px rgba(0, 0, 0, 0.3));\n",
              "      fill: #FFFFFF;\n",
              "    }\n",
              "  </style>\n",
              "\n",
              "      <script>\n",
              "        const buttonEl =\n",
              "          document.querySelector('#df-477f2f6e-63be-4035-8c0d-5923192747e0 button.colab-df-convert');\n",
              "        buttonEl.style.display =\n",
              "          google.colab.kernel.accessAllowed ? 'block' : 'none';\n",
              "\n",
              "        async function convertToInteractive(key) {\n",
              "          const element = document.querySelector('#df-477f2f6e-63be-4035-8c0d-5923192747e0');\n",
              "          const dataTable =\n",
              "            await google.colab.kernel.invokeFunction('convertToInteractive',\n",
              "                                                     [key], {});\n",
              "          if (!dataTable) return;\n",
              "\n",
              "          const docLinkHtml = 'Like what you see? Visit the ' +\n",
              "            '<a target=\"_blank\" href=https://colab.research.google.com/notebooks/data_table.ipynb>data table notebook</a>'\n",
              "            + ' to learn more about interactive tables.';\n",
              "          element.innerHTML = '';\n",
              "          dataTable['output_type'] = 'display_data';\n",
              "          await google.colab.output.renderOutput(dataTable, element);\n",
              "          const docLink = document.createElement('div');\n",
              "          docLink.innerHTML = docLinkHtml;\n",
              "          element.appendChild(docLink);\n",
              "        }\n",
              "      </script>\n",
              "    </div>\n",
              "  </div>\n"
            ]
          },
          "metadata": {},
          "execution_count": 6
        }
      ]
    },
    {
      "cell_type": "code",
      "source": [
        "df.info()"
      ],
      "metadata": {
        "colab": {
          "base_uri": "https://localhost:8080/"
        },
        "id": "uw0K659mAB3_",
        "outputId": "141329cb-56c0-4309-82b0-8c965ec3ddc4"
      },
      "execution_count": 7,
      "outputs": [
        {
          "output_type": "stream",
          "name": "stdout",
          "text": [
            "<class 'pandas.core.frame.DataFrame'>\n",
            "RangeIndex: 65342 entries, 0 to 65341\n",
            "Data columns (total 7 columns):\n",
            " #   Column  Non-Null Count  Dtype  \n",
            "---  ------  --------------  -----  \n",
            " 0   date    65342 non-null  object \n",
            " 1   open    65342 non-null  float64\n",
            " 2   high    65342 non-null  float64\n",
            " 3   low     65342 non-null  float64\n",
            " 4   close   65341 non-null  float64\n",
            " 5   volume  65341 non-null  float64\n",
            " 6   Name    65341 non-null  object \n",
            "dtypes: float64(5), object(2)\n",
            "memory usage: 3.5+ MB\n"
          ]
        }
      ]
    },
    {
      "cell_type": "code",
      "source": [
        "df.isnull().sum()"
      ],
      "metadata": {
        "colab": {
          "base_uri": "https://localhost:8080/"
        },
        "id": "P3uSBmBpAB6o",
        "outputId": "9a8672d4-65c3-43df-fcde-0004c0fe4f9c"
      },
      "execution_count": 8,
      "outputs": [
        {
          "output_type": "execute_result",
          "data": {
            "text/plain": [
              "date      0\n",
              "open      0\n",
              "high      0\n",
              "low       0\n",
              "close     1\n",
              "volume    1\n",
              "Name      1\n",
              "dtype: int64"
            ]
          },
          "metadata": {},
          "execution_count": 8
        }
      ]
    },
    {
      "cell_type": "code",
      "source": [
        "df.dropna(inplace = True)"
      ],
      "metadata": {
        "id": "0poRKTQMSdCQ"
      },
      "execution_count": 9,
      "outputs": []
    },
    {
      "cell_type": "code",
      "source": [
        "df.duplicated().sum()"
      ],
      "metadata": {
        "colab": {
          "base_uri": "https://localhost:8080/"
        },
        "id": "Ke9G3X3GAB9t",
        "outputId": "cac6d30d-c0f7-4c48-d4e6-b8e1f170aeec"
      },
      "execution_count": 10,
      "outputs": [
        {
          "output_type": "execute_result",
          "data": {
            "text/plain": [
              "0"
            ]
          },
          "metadata": {},
          "execution_count": 10
        }
      ]
    },
    {
      "cell_type": "code",
      "source": [
        "sns.heatmap(df.corr(), annot=True)"
      ],
      "metadata": {
        "colab": {
          "base_uri": "https://localhost:8080/",
          "height": 507
        },
        "id": "sPiBOxWOACAz",
        "outputId": "25341282-e1c4-4820-ca96-3c58e63d5904"
      },
      "execution_count": 11,
      "outputs": [
        {
          "output_type": "stream",
          "name": "stderr",
          "text": [
            "<ipython-input-11-6dc1c4c1753e>:1: FutureWarning: The default value of numeric_only in DataFrame.corr is deprecated. In a future version, it will default to False. Select only valid columns or specify the value of numeric_only to silence this warning.\n",
            "  sns.heatmap(df.corr(), annot=True)\n"
          ]
        },
        {
          "output_type": "execute_result",
          "data": {
            "text/plain": [
              "<Axes: >"
            ]
          },
          "metadata": {},
          "execution_count": 11
        },
        {
          "output_type": "display_data",
          "data": {
            "text/plain": [
              "<Figure size 640x480 with 2 Axes>"
            ],
            "image/png": "[encoded data removed]"
          },
          "metadata": {}
        }
      ]
    },
    {
      "cell_type": "code",
      "source": [
        "df.isnull().sum()"
      ],
      "metadata": {
        "colab": {
          "base_uri": "https://localhost:8080/"
        },
        "id": "ksmielc9EBes",
        "outputId": "61d0f0ba-0f7d-4139-f82c-8a34d8d06043"
      },
      "execution_count": 12,
      "outputs": [
        {
          "output_type": "execute_result",
          "data": {
            "text/plain": [
              "date      0\n",
              "open      0\n",
              "high      0\n",
              "low       0\n",
              "close     0\n",
              "volume    0\n",
              "Name      0\n",
              "dtype: int64"
            ]
          },
          "metadata": {},
          "execution_count": 12
        }
      ]
    },
    {
      "cell_type": "code",
      "source": [
        "df['date'] = pd.to_datetime(df['date'], format='%Y/%m/%d')"
      ],
      "metadata": {
        "id": "iMZwXqdvEDI0"
      },
      "execution_count": 13,
      "outputs": []
    },
    {
      "cell_type": "code",
      "source": [
        "df.info()"
      ],
      "metadata": {
        "colab": {
          "base_uri": "https://localhost:8080/"
        },
        "id": "T86FExclEvoR",
        "outputId": "076ee552-4289-4e7a-ced7-a62d5dfd7338"
      },
      "execution_count": 14,
      "outputs": [
        {
          "output_type": "stream",
          "name": "stdout",
          "text": [
            "<class 'pandas.core.frame.DataFrame'>\n",
            "Int64Index: 65341 entries, 0 to 65340\n",
            "Data columns (total 7 columns):\n",
            " #   Column  Non-Null Count  Dtype         \n",
            "---  ------  --------------  -----         \n",
            " 0   date    65341 non-null  datetime64[ns]\n",
            " 1   open    65341 non-null  float64       \n",
            " 2   high    65341 non-null  float64       \n",
            " 3   low     65341 non-null  float64       \n",
            " 4   close   65341 non-null  float64       \n",
            " 5   volume  65341 non-null  float64       \n",
            " 6   Name    65341 non-null  object        \n",
            "dtypes: datetime64[ns](1), float64(5), object(1)\n",
            "memory usage: 4.0+ MB\n"
          ]
        }
      ]
    },
    {
      "cell_type": "code",
      "source": [
        "df['Name'].value_counts()"
      ],
      "metadata": {
        "colab": {
          "base_uri": "https://localhost:8080/"
        },
        "id": "5SaQynCFTDf7",
        "outputId": "b703dca2-38db-479e-b11d-537d92cabdf4"
      },
      "execution_count": 15,
      "outputs": [
        {
          "output_type": "execute_result",
          "data": {
            "text/plain": [
              "AAL     1259\n",
              "ANDV    1259\n",
              "ALL     1259\n",
              "ALXN    1259\n",
              "AMAT    1259\n",
              "AMD     1259\n",
              "AME     1259\n",
              "AMGN    1259\n",
              "AMG     1259\n",
              "AMP     1259\n",
              "AMT     1259\n",
              "AMZN    1259\n",
              "ANSS    1259\n",
              "ALK     1259\n",
              "ANTM    1259\n",
              "AON     1259\n",
              "AOS     1259\n",
              "APA     1259\n",
              "APC     1259\n",
              "APD     1259\n",
              "APH     1259\n",
              "AVGO    1259\n",
              "ARE     1259\n",
              "ARNC    1259\n",
              "AAPL    1259\n",
              "ALGN    1259\n",
              "AVB     1259\n",
              "ADS     1259\n",
              "AAP     1259\n",
              "ABBV    1259\n",
              "ABC     1259\n",
              "ABT     1259\n",
              "ACN     1259\n",
              "ADBE    1259\n",
              "ADI     1259\n",
              "ADM     1259\n",
              "ADP     1259\n",
              "ADSK    1259\n",
              "AEE     1259\n",
              "ALB     1259\n",
              "AEP     1259\n",
              "AES     1259\n",
              "AET     1259\n",
              "AFL     1259\n",
              "AGN     1259\n",
              "AIG     1259\n",
              "AIV     1259\n",
              "AIZ     1259\n",
              "AJG     1259\n",
              "AKAM    1259\n",
              "ATVI    1259\n",
              "ALLE    1063\n",
              "APTV      44\n",
              "AVY       25\n",
              "Name: Name, dtype: int64"
            ]
          },
          "metadata": {},
          "execution_count": 15
        }
      ]
    },
    {
      "cell_type": "code",
      "source": [
        "df.set_index('Name', inplace=True)\n",
        "df.sample(2)"
      ],
      "metadata": {
        "colab": {
          "base_uri": "https://localhost:8080/",
          "height": 143
        },
        "id": "9saRbYzRUFHO",
        "outputId": "a19e7012-1714-4f31-d2ff-3d8105555af4"
      },
      "execution_count": 16,
      "outputs": [
        {
          "output_type": "execute_result",
          "data": {
            "text/plain": [
              "           date    open     high      low   close     volume\n",
              "Name                                                        \n",
              "ALXN 2015-05-08  164.09  167.655  161.750  163.02  3714140.0\n",
              "AME  2016-08-26   49.85   50.270   49.515   49.66  1045582.0"
            ],
            "text/html": [
              "\n",
              "\n",
              "  <div id=\"df-d363b9a1-c7a6-491e-a3dd-92edb0843f4e\">\n",
              "    <div class=\"colab-df-container\">\n",
              "      <div>\n",
              "<style scoped>\n",
              "    .dataframe tbody tr th:only-of-type {\n",
              "        vertical-align: middle;\n",
              "    }\n",
              "\n",
              "    .dataframe tbody tr th {\n",
              "        vertical-align: top;\n",
              "    }\n",
              "\n",
              "    .dataframe thead th {\n",
              "        text-align: right;\n",
              "    }\n",
              "</style>\n",
              "<table border=\"1\" class=\"dataframe\">\n",
              "  <thead>\n",
              "    <tr style=\"text-align: right;\">\n",
              "      <th></th>\n",
              "      <th>date</th>\n",
              "      <th>open</th>\n",
              "      <th>high</th>\n",
              "      <th>low</th>\n",
              "      <th>close</th>\n",
              "      <th>volume</th>\n",
              "    </tr>\n",
              "    <tr>\n",
              "      <th>Name</th>\n",
              "      <th></th>\n",
              "      <th></th>\n",
              "      <th></th>\n",
              "      <th></th>\n",
              "      <th></th>\n",
              "      <th></th>\n",
              "    </tr>\n",
              "  </thead>\n",
              "  <tbody>\n",
              "    <tr>\n",
              "      <th>ALXN</th>\n",
              "      <td>2015-05-08</td>\n",
              "      <td>164.09</td>\n",
              "      <td>167.655</td>\n",
              "      <td>161.750</td>\n",
              "      <td>163.02</td>\n",
              "      <td>3714140.0</td>\n",
              "    </tr>\n",
              "    <tr>\n",
              "      <th>AME</th>\n",
              "      <td>2016-08-26</td>\n",
              "      <td>49.85</td>\n",
              "      <td>50.270</td>\n",
              "      <td>49.515</td>\n",
              "      <td>49.66</td>\n",
              "      <td>1045582.0</td>\n",
              "    </tr>\n",
              "  </tbody>\n",
              "</table>\n",
              "</div>\n",
              "      <button class=\"colab-df-convert\" onclick=\"convertToInteractive('df-d363b9a1-c7a6-491e-a3dd-92edb0843f4e')\"\n",
              "              title=\"Convert this dataframe to an interactive table.\"\n",
              "              style=\"display:none;\">\n",
              "\n",
              "  <svg xmlns=\"http://www.w3.org/2000/svg\" height=\"24px\"viewBox=\"0 0 24 24\"\n",
              "       width=\"24px\">\n",
              "    <path d=\"M0 0h24v24H0V0z\" fill=\"none\"/>\n",
              "    <path d=\"M18.56 5.44l.94 2.06.94-2.06 2.06-.94-2.06-.94-.94-2.06-.94 2.06-2.06.94zm-11 1L8.5 8.5l.94-2.06 2.06-.94-2.06-.94L8.5 2.5l-.94 2.06-2.06.94zm10 10l.94 2.06.94-2.06 2.06-.94-2.06-.94-.94-2.06-.94 2.06-2.06.94z\"/><path d=\"M17.41 7.96l-1.37-1.37c-.4-.4-.92-.59-1.43-.59-.52 0-1.04.2-1.43.59L10.3 9.45l-7.72 7.72c-.78.78-.78 2.05 0 2.83L4 21.41c.39.39.9.59 1.41.59.51 0 1.02-.2 1.41-.59l7.78-7.78 2.81-2.81c.8-.78.8-2.07 0-2.86zM5.41 20L4 18.59l7.72-7.72 1.47 1.35L5.41 20z\"/>\n",
              "  </svg>\n",
              "      </button>\n",
              "\n",
              "\n",
              "\n",
              "    <div id=\"df-c5796375-e1d3-46f7-884a-1ac964dbcbd2\">\n",
              "      <button class=\"colab-df-quickchart\" onclick=\"quickchart('df-c5796375-e1d3-46f7-884a-1ac964dbcbd2')\"\n",
              "              title=\"Suggest charts.\"\n",
              "              style=\"display:none;\">\n",
              "\n",
              "<svg xmlns=\"http://www.w3.org/2000/svg\" height=\"24px\"viewBox=\"0 0 24 24\"\n",
              "     width=\"24px\">\n",
              "    <g>\n",
              "        <path d=\"M19 3H5c-1.1 0-2 .9-2 2v14c0 1.1.9 2 2 2h14c1.1 0 2-.9 2-2V5c0-1.1-.9-2-2-2zM9 17H7v-7h2v7zm4 0h-2V7h2v10zm4 0h-2v-4h2v4z\"/>\n",
              "    </g>\n",
              "</svg>\n",
              "      </button>\n",
              "    </div>\n",
              "\n",
              "<style>\n",
              "  .colab-df-quickchart {\n",
              "    background-color: #E8F0FE;\n",
              "    border: none;\n",
              "    border-radius: 50%;\n",
              "    cursor: pointer;\n",
              "    display: none;\n",
              "    fill: #1967D2;\n",
              "    height: 32px;\n",
              "    padding: 0 0 0 0;\n",
              "    width: 32px;\n",
              "  }\n",
              "\n",
              "  .colab-df-quickchart:hover {\n",
              "    background-color: #E2EBFA;\n",
              "    box-shadow: 0px 1px 2px rgba(60, 64, 67, 0.3), 0px 1px 3px 1px rgba(60, 64, 67, 0.15);\n",
              "    fill: #174EA6;\n",
              "  }\n",
              "\n",
              "  [theme=dark] .colab-df-quickchart {\n",
              "    background-color: #3B4455;\n",
              "    fill: #D2E3FC;\n",
              "  }\n",
              "\n",
              "  [theme=dark] .colab-df-quickchart:hover {\n",
              "    background-color: #434B5C;\n",
              "    box-shadow: 0px 1px 3px 1px rgba(0, 0, 0, 0.15);\n",
              "    filter: drop-shadow(0px 1px 2px rgba(0, 0, 0, 0.3));\n",
              "    fill: #FFFFFF;\n",
              "  }\n",
              "</style>\n",
              "\n",
              "    <script>\n",
              "      async function quickchart(key) {\n",
              "        const containerElement = document.querySelector('#' + key);\n",
              "        const charts = await google.colab.kernel.invokeFunction(\n",
              "            'suggestCharts', [key], {});\n",
              "      }\n",
              "    </script>\n",
              "\n",
              "      <script>\n",
              "\n",
              "function displayQuickchartButton(domScope) {\n",
              "  let quickchartButtonEl =\n",
              "    domScope.querySelector('#df-c5796375-e1d3-46f7-884a-1ac964dbcbd2 button.colab-df-quickchart');\n",
              "  quickchartButtonEl.style.display =\n",
              "    google.colab.kernel.accessAllowed ? 'block' : 'none';\n",
              "}\n",
              "\n",
              "        displayQuickchartButton(document);\n",
              "      </script>\n",
              "      <style>\n",
              "    .colab-df-container {\n",
              "      display:flex;\n",
              "      flex-wrap:wrap;\n",
              "      gap: 12px;\n",
              "    }\n",
              "\n",
              "    .colab-df-convert {\n",
              "      background-color: #E8F0FE;\n",
              "      border: none;\n",
              "      border-radius: 50%;\n",
              "      cursor: pointer;\n",
              "      display: none;\n",
              "      fill: #1967D2;\n",
              "      height: 32px;\n",
              "      padding: 0 0 0 0;\n",
              "      width: 32px;\n",
              "    }\n",
              "\n",
              "    .colab-df-convert:hover {\n",
              "      background-color: #E2EBFA;\n",
              "      box-shadow: 0px 1px 2px rgba(60, 64, 67, 0.3), 0px 1px 3px 1px rgba(60, 64, 67, 0.15);\n",
              "      fill: #174EA6;\n",
              "    }\n",
              "\n",
              "    [theme=dark] .colab-df-convert {\n",
              "      background-color: #3B4455;\n",
              "      fill: #D2E3FC;\n",
              "    }\n",
              "\n",
              "    [theme=dark] .colab-df-convert:hover {\n",
              "      background-color: #434B5C;\n",
              "      box-shadow: 0px 1px 3px 1px rgba(0, 0, 0, 0.15);\n",
              "      filter: drop-shadow(0px 1px 2px rgba(0, 0, 0, 0.3));\n",
              "      fill: #FFFFFF;\n",
              "    }\n",
              "  </style>\n",
              "\n",
              "      <script>\n",
              "        const buttonEl =\n",
              "          document.querySelector('#df-d363b9a1-c7a6-491e-a3dd-92edb0843f4e button.colab-df-convert');\n",
              "        buttonEl.style.display =\n",
              "          google.colab.kernel.accessAllowed ? 'block' : 'none';\n",
              "\n",
              "        async function convertToInteractive(key) {\n",
              "          const element = document.querySelector('#df-d363b9a1-c7a6-491e-a3dd-92edb0843f4e');\n",
              "          const dataTable =\n",
              "            await google.colab.kernel.invokeFunction('convertToInteractive',\n",
              "                                                     [key], {});\n",
              "          if (!dataTable) return;\n",
              "\n",
              "          const docLinkHtml = 'Like what you see? Visit the ' +\n",
              "            '<a target=\"_blank\" href=https://colab.research.google.com/notebooks/data_table.ipynb>data table notebook</a>'\n",
              "            + ' to learn more about interactive tables.';\n",
              "          element.innerHTML = '';\n",
              "          dataTable['output_type'] = 'display_data';\n",
              "          await google.colab.output.renderOutput(dataTable, element);\n",
              "          const docLink = document.createElement('div');\n",
              "          docLink.innerHTML = docLinkHtml;\n",
              "          element.appendChild(docLink);\n",
              "        }\n",
              "      </script>\n",
              "    </div>\n",
              "  </div>\n"
            ]
          },
          "metadata": {},
          "execution_count": 16
        }
      ]
    },
    {
      "cell_type": "code",
      "source": [
        "df1 = df.loc['AAPL']\n",
        "df1.sample(2)"
      ],
      "metadata": {
        "colab": {
          "base_uri": "https://localhost:8080/",
          "height": 143
        },
        "id": "jDPiTBsCUf3-",
        "outputId": "1cf7c179-6a08-43b9-ae53-98a5e98bd25a"
      },
      "execution_count": 17,
      "outputs": [
        {
          "output_type": "execute_result",
          "data": {
            "text/plain": [
              "           date     open     high      low    close       volume\n",
              "Name                                                            \n",
              "AAPL 2013-05-20  61.7014  63.6857  61.4428  63.2757  112681030.0\n",
              "AAPL 2016-02-05  96.5200  96.9200  93.6900  94.0200   46418064.0"
            ],
            "text/html": [
              "\n",
              "\n",
              "  <div id=\"df-d113d8e4-ea90-4282-8ba7-b28b991fe372\">\n",
              "    <div class=\"colab-df-container\">\n",
              "      <div>\n",
              "<style scoped>\n",
              "    .dataframe tbody tr th:only-of-type {\n",
              "        vertical-align: middle;\n",
              "    }\n",
              "\n",
              "    .dataframe tbody tr th {\n",
              "        vertical-align: top;\n",
              "    }\n",
              "\n",
              "    .dataframe thead th {\n",
              "        text-align: right;\n",
              "    }\n",
              "</style>\n",
              "<table border=\"1\" class=\"dataframe\">\n",
              "  <thead>\n",
              "    <tr style=\"text-align: right;\">\n",
              "      <th></th>\n",
              "      <th>date</th>\n",
              "      <th>open</th>\n",
              "      <th>high</th>\n",
              "      <th>low</th>\n",
              "      <th>close</th>\n",
              "      <th>volume</th>\n",
              "    </tr>\n",
              "    <tr>\n",
              "      <th>Name</th>\n",
              "      <th></th>\n",
              "      <th></th>\n",
              "      <th></th>\n",
              "      <th></th>\n",
              "      <th></th>\n",
              "      <th></th>\n",
              "    </tr>\n",
              "  </thead>\n",
              "  <tbody>\n",
              "    <tr>\n",
              "      <th>AAPL</th>\n",
              "      <td>2013-05-20</td>\n",
              "      <td>61.7014</td>\n",
              "      <td>63.6857</td>\n",
              "      <td>61.4428</td>\n",
              "      <td>63.2757</td>\n",
              "      <td>112681030.0</td>\n",
              "    </tr>\n",
              "    <tr>\n",
              "      <th>AAPL</th>\n",
              "      <td>2016-02-05</td>\n",
              "      <td>96.5200</td>\n",
              "      <td>96.9200</td>\n",
              "      <td>93.6900</td>\n",
              "      <td>94.0200</td>\n",
              "      <td>46418064.0</td>\n",
              "    </tr>\n",
              "  </tbody>\n",
              "</table>\n",
              "</div>\n",
              "      <button class=\"colab-df-convert\" onclick=\"convertToInteractive('df-d113d8e4-ea90-4282-8ba7-b28b991fe372')\"\n",
              "              title=\"Convert this dataframe to an interactive table.\"\n",
              "              style=\"display:none;\">\n",
              "\n",
              "  <svg xmlns=\"http://www.w3.org/2000/svg\" height=\"24px\"viewBox=\"0 0 24 24\"\n",
              "       width=\"24px\">\n",
              "    <path d=\"M0 0h24v24H0V0z\" fill=\"none\"/>\n",
              "    <path d=\"M18.56 5.44l.94 2.06.94-2.06 2.06-.94-2.06-.94-.94-2.06-.94 2.06-2.06.94zm-11 1L8.5 8.5l.94-2.06 2.06-.94-2.06-.94L8.5 2.5l-.94 2.06-2.06.94zm10 10l.94 2.06.94-2.06 2.06-.94-2.06-.94-.94-2.06-.94 2.06-2.06.94z\"/><path d=\"M17.41 7.96l-1.37-1.37c-.4-.4-.92-.59-1.43-.59-.52 0-1.04.2-1.43.59L10.3 9.45l-7.72 7.72c-.78.78-.78 2.05 0 2.83L4 21.41c.39.39.9.59 1.41.59.51 0 1.02-.2 1.41-.59l7.78-7.78 2.81-2.81c.8-.78.8-2.07 0-2.86zM5.41 20L4 18.59l7.72-7.72 1.47 1.35L5.41 20z\"/>\n",
              "  </svg>\n",
              "      </button>\n",
              "\n",
              "\n",
              "\n",
              "    <div id=\"df-a40975c7-e1bf-4129-bd2e-bca9261fda34\">\n",
              "      <button class=\"colab-df-quickchart\" onclick=\"quickchart('df-a40975c7-e1bf-4129-bd2e-bca9261fda34')\"\n",
              "              title=\"Suggest charts.\"\n",
              "              style=\"display:none;\">\n",
              "\n",
              "<svg xmlns=\"http://www.w3.org/2000/svg\" height=\"24px\"viewBox=\"0 0 24 24\"\n",
              "     width=\"24px\">\n",
              "    <g>\n",
              "        <path d=\"M19 3H5c-1.1 0-2 .9-2 2v14c0 1.1.9 2 2 2h14c1.1 0 2-.9 2-2V5c0-1.1-.9-2-2-2zM9 17H7v-7h2v7zm4 0h-2V7h2v10zm4 0h-2v-4h2v4z\"/>\n",
              "    </g>\n",
              "</svg>\n",
              "      </button>\n",
              "    </div>\n",
              "\n",
              "<style>\n",
              "  .colab-df-quickchart {\n",
              "    background-color: #E8F0FE;\n",
              "    border: none;\n",
              "    border-radius: 50%;\n",
              "    cursor: pointer;\n",
              "    display: none;\n",
              "    fill: #1967D2;\n",
              "    height: 32px;\n",
              "    padding: 0 0 0 0;\n",
              "    width: 32px;\n",
              "  }\n",
              "\n",
              "  .colab-df-quickchart:hover {\n",
              "    background-color: #E2EBFA;\n",
              "    box-shadow: 0px 1px 2px rgba(60, 64, 67, 0.3), 0px 1px 3px 1px rgba(60, 64, 67, 0.15);\n",
              "    fill: #174EA6;\n",
              "  }\n",
              "\n",
              "  [theme=dark] .colab-df-quickchart {\n",
              "    background-color: #3B4455;\n",
              "    fill: #D2E3FC;\n",
              "  }\n",
              "\n",
              "  [theme=dark] .colab-df-quickchart:hover {\n",
              "    background-color: #434B5C;\n",
              "    box-shadow: 0px 1px 3px 1px rgba(0, 0, 0, 0.15);\n",
              "    filter: drop-shadow(0px 1px 2px rgba(0, 0, 0, 0.3));\n",
              "    fill: #FFFFFF;\n",
              "  }\n",
              "</style>\n",
              "\n",
              "    <script>\n",
              "      async function quickchart(key) {\n",
              "        const containerElement = document.querySelector('#' + key);\n",
              "        const charts = await google.colab.kernel.invokeFunction(\n",
              "            'suggestCharts', [key], {});\n",
              "      }\n",
              "    </script>\n",
              "\n",
              "      <script>\n",
              "\n",
              "function displayQuickchartButton(domScope) {\n",
              "  let quickchartButtonEl =\n",
              "    domScope.querySelector('#df-a40975c7-e1bf-4129-bd2e-bca9261fda34 button.colab-df-quickchart');\n",
              "  quickchartButtonEl.style.display =\n",
              "    google.colab.kernel.accessAllowed ? 'block' : 'none';\n",
              "}\n",
              "\n",
              "        displayQuickchartButton(document);\n",
              "      </script>\n",
              "      <style>\n",
              "    .colab-df-container {\n",
              "      display:flex;\n",
              "      flex-wrap:wrap;\n",
              "      gap: 12px;\n",
              "    }\n",
              "\n",
              "    .colab-df-convert {\n",
              "      background-color: #E8F0FE;\n",
              "      border: none;\n",
              "      border-radius: 50%;\n",
              "      cursor: pointer;\n",
              "      display: none;\n",
              "      fill: #1967D2;\n",
              "      height: 32px;\n",
              "      padding: 0 0 0 0;\n",
              "      width: 32px;\n",
              "    }\n",
              "\n",
              "    .colab-df-convert:hover {\n",
              "      background-color: #E2EBFA;\n",
              "      box-shadow: 0px 1px 2px rgba(60, 64, 67, 0.3), 0px 1px 3px 1px rgba(60, 64, 67, 0.15);\n",
              "      fill: #174EA6;\n",
              "    }\n",
              "\n",
              "    [theme=dark] .colab-df-convert {\n",
              "      background-color: #3B4455;\n",
              "      fill: #D2E3FC;\n",
              "    }\n",
              "\n",
              "    [theme=dark] .colab-df-convert:hover {\n",
              "      background-color: #434B5C;\n",
              "      box-shadow: 0px 1px 3px 1px rgba(0, 0, 0, 0.15);\n",
              "      filter: drop-shadow(0px 1px 2px rgba(0, 0, 0, 0.3));\n",
              "      fill: #FFFFFF;\n",
              "    }\n",
              "  </style>\n",
              "\n",
              "      <script>\n",
              "        const buttonEl =\n",
              "          document.querySelector('#df-d113d8e4-ea90-4282-8ba7-b28b991fe372 button.colab-df-convert');\n",
              "        buttonEl.style.display =\n",
              "          google.colab.kernel.accessAllowed ? 'block' : 'none';\n",
              "\n",
              "        async function convertToInteractive(key) {\n",
              "          const element = document.querySelector('#df-d113d8e4-ea90-4282-8ba7-b28b991fe372');\n",
              "          const dataTable =\n",
              "            await google.colab.kernel.invokeFunction('convertToInteractive',\n",
              "                                                     [key], {});\n",
              "          if (!dataTable) return;\n",
              "\n",
              "          const docLinkHtml = 'Like what you see? Visit the ' +\n",
              "            '<a target=\"_blank\" href=https://colab.research.google.com/notebooks/data_table.ipynb>data table notebook</a>'\n",
              "            + ' to learn more about interactive tables.';\n",
              "          element.innerHTML = '';\n",
              "          dataTable['output_type'] = 'display_data';\n",
              "          await google.colab.output.renderOutput(dataTable, element);\n",
              "          const docLink = document.createElement('div');\n",
              "          docLink.innerHTML = docLinkHtml;\n",
              "          element.appendChild(docLink);\n",
              "        }\n",
              "      </script>\n",
              "    </div>\n",
              "  </div>\n"
            ]
          },
          "metadata": {},
          "execution_count": 17
        }
      ]
    },
    {
      "cell_type": "code",
      "source": [
        "df2 = df1.reset_index()['close']"
      ],
      "metadata": {
        "id": "4qsZen9GXlxx"
      },
      "execution_count": 18,
      "outputs": []
    },
    {
      "cell_type": "code",
      "source": [
        "plt.plot(df2)"
      ],
      "metadata": {
        "colab": {
          "base_uri": "https://localhost:8080/",
          "height": 447
        },
        "id": "m90T7rx2Uf7Y",
        "outputId": "798f4876-5427-4b39-98da-e1f7624c4cd7"
      },
      "execution_count": 19,
      "outputs": [
        {
          "output_type": "execute_result",
          "data": {
            "text/plain": [
              "[<matplotlib.lines.Line2D at 0x7e37fb8abbe0>]"
            ]
          },
          "metadata": {},
          "execution_count": 19
        },
        {
          "output_type": "display_data",
          "data": {
            "text/plain": [
              "<Figure size 640x480 with 1 Axes>"
            ],
            "image/png": "[encoded data removed]"
          },
          "metadata": {}
        }
      ]
    },
    {
      "cell_type": "markdown",
      "source": [
        "### LSTM are sensitive to the scale of the data. so we apply MinMax scaler"
      ],
      "metadata": {
        "id": "s110CN-OYEPu"
      }
    },
    {
      "cell_type": "code",
      "source": [
        "from sklearn.preprocessing import MinMaxScaler\n",
        "scaler=MinMaxScaler()\n",
        "df2=scaler.fit_transform(np.array(df2).reshape(-1,1))"
      ],
      "metadata": {
        "id": "gU6AX5e-YCpG"
      },
      "execution_count": 20,
      "outputs": []
    },
    {
      "cell_type": "code",
      "source": [
        "df2"
      ],
      "metadata": {
        "colab": {
          "base_uri": "https://localhost:8080/"
        },
        "id": "rYhlCACtYCr_",
        "outputId": "3246046f-76ae-4671-87b4-f4e5ca2ab98d"
      },
      "execution_count": 21,
      "outputs": [
        {
          "output_type": "execute_result",
          "data": {
            "text/plain": [
              "array([[0.0977103 ],\n",
              "       [0.103438  ],\n",
              "       [0.08951884],\n",
              "       ...,\n",
              "       [0.81558288],\n",
              "       [0.86855117],\n",
              "       [0.84028522]])"
            ]
          },
          "metadata": {},
          "execution_count": 21
        }
      ]
    },
    {
      "cell_type": "code",
      "source": [
        "##splitting dataset into train and test split\n",
        "training_size=int(len(df2)*0.65)\n",
        "test_size=len(df2)-training_size\n",
        "train_data,test_data=df2[0:training_size,:],df2[training_size:len(df2),:]"
      ],
      "metadata": {
        "id": "61lx5ue3YCux"
      },
      "execution_count": 22,
      "outputs": []
    },
    {
      "cell_type": "code",
      "source": [
        "training_size,test_size"
      ],
      "metadata": {
        "colab": {
          "base_uri": "https://localhost:8080/"
        },
        "id": "kdtqomq-YCyY",
        "outputId": "1757d526-f03a-4f1a-deaf-71a5142e546b"
      },
      "execution_count": 23,
      "outputs": [
        {
          "output_type": "execute_result",
          "data": {
            "text/plain": [
              "(818, 441)"
            ]
          },
          "metadata": {},
          "execution_count": 23
        }
      ]
    },
    {
      "cell_type": "code",
      "source": [
        "# convert an array of values into a dataset matrix\n",
        "def create_dataset(dataset, time_step):\n",
        "\tdataX, dataY = [], []\n",
        "\tfor i in range(len(dataset)-time_step-1):\n",
        "\t\ta = dataset[i:(i+time_step), 0]   ###i=0, 0,1,2,3-----99   100\n",
        "\t\tdataX.append(a)\n",
        "\t\tdataY.append(dataset[i + time_step, 0])\n",
        "\treturn np.array(dataX), np.array(dataY)"
      ],
      "metadata": {
        "id": "idCWebDBYC45"
      },
      "execution_count": 24,
      "outputs": []
    },
    {
      "cell_type": "code",
      "source": [
        "# reshape into X=t,t+1,t+2,t+3 and Y=t+4\n",
        "time_step = 100\n",
        "X_train, y_train = create_dataset(train_data, time_step)\n",
        "X_test, ytest = create_dataset(test_data, time_step)"
      ],
      "metadata": {
        "id": "hE4rZl3MZTw2"
      },
      "execution_count": 25,
      "outputs": []
    },
    {
      "cell_type": "code",
      "source": [
        "print(X_train.shape,'\\n',y_train.shape)"
      ],
      "metadata": {
        "colab": {
          "base_uri": "https://localhost:8080/"
        },
        "id": "7pFIVlnJZT0c",
        "outputId": "d9cddd4c-d848-4d9e-a4f1-c77e35809678"
      },
      "execution_count": 26,
      "outputs": [
        {
          "output_type": "stream",
          "name": "stdout",
          "text": [
            "(717, 100) \n",
            " (717,)\n"
          ]
        }
      ]
    },
    {
      "cell_type": "code",
      "source": [
        "print(X_test.shape,'\\n', ytest.shape)"
      ],
      "metadata": {
        "colab": {
          "base_uri": "https://localhost:8080/"
        },
        "id": "9vU1vqOGZ31J",
        "outputId": "23c6a775-5c3b-4f19-ae11-303421d04f29"
      },
      "execution_count": 27,
      "outputs": [
        {
          "output_type": "stream",
          "name": "stdout",
          "text": [
            "(340, 100) \n",
            " (340,)\n"
          ]
        }
      ]
    },
    {
      "cell_type": "code",
      "source": [
        "# reshape input to be [samples, time steps, features] which is required for LSTM\n",
        "X_train =X_train.reshape(X_train.shape[0],X_train.shape[1] , 1)\n",
        "X_test = X_test.reshape(X_test.shape[0],X_test.shape[1] , 1)"
      ],
      "metadata": {
        "id": "lePHjKmiZT3m"
      },
      "execution_count": 28,
      "outputs": []
    },
    {
      "cell_type": "code",
      "source": [
        "X_train.shape"
      ],
      "metadata": {
        "colab": {
          "base_uri": "https://localhost:8080/"
        },
        "id": "sRwRwKMjUveq",
        "outputId": "a48d2a0b-610e-4cf7-c411-20d3ad617d99"
      },
      "execution_count": 38,
      "outputs": [
        {
          "output_type": "execute_result",
          "data": {
            "text/plain": [
              "(717, 100, 1)"
            ]
          },
          "metadata": {},
          "execution_count": 38
        }
      ]
    },
    {
      "cell_type": "code",
      "source": [
        "### Create the Stacked LSTM model\n",
        "from tensorflow.keras.models import Sequential\n",
        "from tensorflow.keras.layers import Dense\n",
        "from tensorflow.keras.layers import LSTM"
      ],
      "metadata": {
        "id": "K1KIFkU5Uf-t"
      },
      "execution_count": 29,
      "outputs": []
    },
    {
      "cell_type": "code",
      "source": [
        "model=Sequential()\n",
        "model.add(LSTM(50,return_sequences=True,input_shape=(100,1)))\n",
        "model.add(LSTM(50,return_sequences=True))\n",
        "model.add(LSTM(50))\n",
        "model.add(Dense(1))\n",
        "model.compile(loss='mean_squared_error', optimizer='adam')"
      ],
      "metadata": {
        "id": "jupWWK3IZsX0"
      },
      "execution_count": 40,
      "outputs": []
    },
    {
      "cell_type": "code",
      "source": [
        "model.summary()"
      ],
      "metadata": {
        "colab": {
          "base_uri": "https://localhost:8080/"
        },
        "id": "ptBb5n30ZvR4",
        "outputId": "31ea9864-5ff1-49a8-8c9f-1eeaebc25db0"
      },
      "execution_count": 41,
      "outputs": [
        {
          "output_type": "stream",
          "name": "stdout",
          "text": [
            "Model: \"sequential_2\"\n",
            "_________________________________________________________________\n",
            " Layer (type)                Output Shape              Param #   \n",
            "=================================================================\n",
            " lstm_6 (LSTM)               (None, 100, 50)           10400     \n",
            "                                                                 \n",
            " lstm_7 (LSTM)               (None, 100, 50)           20200     \n",
            "                                                                 \n",
            " lstm_8 (LSTM)               (None, 50)                20200     \n",
            "                                                                 \n",
            " dense_2 (Dense)             (None, 1)                 51        \n",
            "                                                                 \n",
            "=================================================================\n",
            "Total params: 50,851\n",
            "Trainable params: 50,851\n",
            "Non-trainable params: 0\n",
            "_________________________________________________________________\n"
          ]
        }
      ]
    },
    {
      "cell_type": "code",
      "source": [
        "model.fit(X_train,y_train,validation_data=(X_test,ytest),epochs=100,batch_size=64,verbose=1)"
      ],
      "metadata": {
        "colab": {
          "base_uri": "https://localhost:8080/"
        },
        "id": "wDkPwk-CZypy",
        "outputId": "c7ac9e5d-110e-44a3-d8a6-8f20aada3817"
      },
      "execution_count": 47,
      "outputs": [
        {
          "output_type": "stream",
          "name": "stdout",
          "text": [
            "Epoch 1/100\n",
            "12/12 [==============================] - 5s 401ms/step - loss: 0.0227 - val_loss: 0.0643\n",
            "Epoch 2/100\n",
            "12/12 [==============================] - 3s 222ms/step - loss: 0.0064 - val_loss: 0.0041\n",
            "Epoch 3/100\n",
            "12/12 [==============================] - 4s 382ms/step - loss: 0.0028 - val_loss: 0.0156\n",
            "Epoch 4/100\n",
            "12/12 [==============================] - 7s 604ms/step - loss: 0.0016 - val_loss: 0.0072\n",
            "Epoch 5/100\n",
            "12/12 [==============================] - 5s 435ms/step - loss: 0.0013 - val_loss: 0.0033\n",
            "Epoch 6/100\n",
            "12/12 [==============================] - 3s 261ms/step - loss: 0.0012 - val_loss: 0.0027\n",
            "Epoch 7/100\n",
            "12/12 [==============================] - 5s 397ms/step - loss: 0.0012 - val_loss: 0.0038\n",
            "Epoch 8/100\n",
            "12/12 [==============================] - 3s 222ms/step - loss: 0.0011 - val_loss: 0.0043\n",
            "Epoch 9/100\n",
            "12/12 [==============================] - 3s 217ms/step - loss: 0.0011 - val_loss: 0.0045\n",
            "Epoch 10/100\n",
            "12/12 [==============================] - 3s 223ms/step - loss: 0.0011 - val_loss: 0.0038\n",
            "Epoch 11/100\n",
            "12/12 [==============================] - 3s 251ms/step - loss: 0.0011 - val_loss: 0.0027\n",
            "Epoch 12/100\n",
            "12/12 [==============================] - 3s 279ms/step - loss: 0.0011 - val_loss: 0.0028\n",
            "Epoch 13/100\n",
            "12/12 [==============================] - 3s 216ms/step - loss: 0.0010 - val_loss: 0.0040\n",
            "Epoch 14/100\n",
            "12/12 [==============================] - 3s 221ms/step - loss: 0.0011 - val_loss: 0.0037\n",
            "Epoch 15/100\n",
            "12/12 [==============================] - 3s 232ms/step - loss: 0.0010 - val_loss: 0.0027\n",
            "Epoch 16/100\n",
            "12/12 [==============================] - 5s 421ms/step - loss: 9.6984e-04 - val_loss: 0.0038\n",
            "Epoch 17/100\n",
            "12/12 [==============================] - 3s 278ms/step - loss: 9.8510e-04 - val_loss: 0.0039\n",
            "Epoch 18/100\n",
            "12/12 [==============================] - 3s 222ms/step - loss: 0.0010 - val_loss: 0.0028\n",
            "Epoch 19/100\n",
            "12/12 [==============================] - 3s 238ms/step - loss: 9.1212e-04 - val_loss: 0.0013\n",
            "Epoch 20/100\n",
            "12/12 [==============================] - 4s 321ms/step - loss: 9.0280e-04 - val_loss: 0.0034\n",
            "Epoch 21/100\n",
            "12/12 [==============================] - 3s 277ms/step - loss: 9.0558e-04 - val_loss: 0.0036\n",
            "Epoch 22/100\n",
            "12/12 [==============================] - 3s 220ms/step - loss: 9.2571e-04 - val_loss: 0.0016\n",
            "Epoch 23/100\n",
            "12/12 [==============================] - 3s 269ms/step - loss: 8.1780e-04 - val_loss: 0.0012\n",
            "Epoch 24/100\n",
            "12/12 [==============================] - 5s 467ms/step - loss: 8.9396e-04 - val_loss: 0.0031\n",
            "Epoch 25/100\n",
            "12/12 [==============================] - 4s 327ms/step - loss: 8.7720e-04 - val_loss: 0.0030\n",
            "Epoch 26/100\n",
            "12/12 [==============================] - 4s 304ms/step - loss: 7.9726e-04 - val_loss: 0.0013\n",
            "Epoch 27/100\n",
            "12/12 [==============================] - 5s 415ms/step - loss: 7.6395e-04 - val_loss: 0.0026\n",
            "Epoch 28/100\n",
            "12/12 [==============================] - 4s 305ms/step - loss: 7.9070e-04 - val_loss: 0.0022\n",
            "Epoch 29/100\n",
            "12/12 [==============================] - 4s 295ms/step - loss: 7.8979e-04 - val_loss: 0.0027\n",
            "Epoch 30/100\n",
            "12/12 [==============================] - 5s 398ms/step - loss: 7.1402e-04 - val_loss: 0.0014\n",
            "Epoch 31/100\n",
            "12/12 [==============================] - 3s 247ms/step - loss: 7.3067e-04 - val_loss: 0.0031\n",
            "Epoch 32/100\n",
            "12/12 [==============================] - 3s 221ms/step - loss: 6.9465e-04 - val_loss: 0.0013\n",
            "Epoch 33/100\n",
            "12/12 [==============================] - 3s 216ms/step - loss: 6.8289e-04 - val_loss: 0.0018\n",
            "Epoch 34/100\n",
            "12/12 [==============================] - 5s 445ms/step - loss: 6.6516e-04 - val_loss: 7.9744e-04\n",
            "Epoch 35/100\n",
            "12/12 [==============================] - 5s 361ms/step - loss: 7.2343e-04 - val_loss: 0.0037\n",
            "Epoch 36/100\n",
            "12/12 [==============================] - 5s 405ms/step - loss: 7.4371e-04 - val_loss: 7.7757e-04\n",
            "Epoch 37/100\n",
            "12/12 [==============================] - 6s 487ms/step - loss: 9.1708e-04 - val_loss: 0.0029\n",
            "Epoch 38/100\n",
            "12/12 [==============================] - 6s 496ms/step - loss: 6.6080e-04 - val_loss: 8.4035e-04\n",
            "Epoch 39/100\n",
            "12/12 [==============================] - 6s 498ms/step - loss: 7.0874e-04 - val_loss: 0.0023\n",
            "Epoch 40/100\n",
            "12/12 [==============================] - 3s 279ms/step - loss: 6.3838e-04 - val_loss: 0.0011\n",
            "Epoch 41/100\n",
            "12/12 [==============================] - 3s 223ms/step - loss: 6.1156e-04 - val_loss: 0.0010\n",
            "Epoch 42/100\n",
            "12/12 [==============================] - 3s 221ms/step - loss: 6.2678e-04 - val_loss: 0.0025\n",
            "Epoch 43/100\n",
            "12/12 [==============================] - 4s 330ms/step - loss: 7.0850e-04 - val_loss: 6.8811e-04\n",
            "Epoch 44/100\n",
            "12/12 [==============================] - 3s 217ms/step - loss: 6.2024e-04 - val_loss: 0.0019\n",
            "Epoch 45/100\n",
            "12/12 [==============================] - 3s 218ms/step - loss: 5.9147e-04 - val_loss: 0.0022\n",
            "Epoch 46/100\n",
            "12/12 [==============================] - 3s 220ms/step - loss: 6.9329e-04 - val_loss: 8.4412e-04\n",
            "Epoch 47/100\n",
            "12/12 [==============================] - 3s 264ms/step - loss: 5.7616e-04 - val_loss: 0.0032\n",
            "Epoch 48/100\n",
            "12/12 [==============================] - 3s 268ms/step - loss: 6.0363e-04 - val_loss: 6.6617e-04\n",
            "Epoch 49/100\n",
            "12/12 [==============================] - 3s 218ms/step - loss: 5.7141e-04 - val_loss: 0.0014\n",
            "Epoch 50/100\n",
            "12/12 [==============================] - 3s 219ms/step - loss: 5.5640e-04 - val_loss: 7.0994e-04\n",
            "Epoch 51/100\n",
            "12/12 [==============================] - 3s 223ms/step - loss: 5.8239e-04 - val_loss: 0.0019\n",
            "Epoch 52/100\n",
            "12/12 [==============================] - 4s 335ms/step - loss: 5.4682e-04 - val_loss: 7.6260e-04\n",
            "Epoch 53/100\n",
            "12/12 [==============================] - 3s 267ms/step - loss: 7.2052e-04 - val_loss: 0.0017\n",
            "Epoch 54/100\n",
            "12/12 [==============================] - 3s 219ms/step - loss: 6.5859e-04 - val_loss: 8.6718e-04\n",
            "Epoch 55/100\n",
            "12/12 [==============================] - 3s 217ms/step - loss: 5.6390e-04 - val_loss: 5.7937e-04\n",
            "Epoch 56/100\n",
            "12/12 [==============================] - 4s 301ms/step - loss: 5.3622e-04 - val_loss: 0.0014\n",
            "Epoch 57/100\n",
            "12/12 [==============================] - 3s 231ms/step - loss: 5.7288e-04 - val_loss: 7.3001e-04\n",
            "Epoch 58/100\n",
            "12/12 [==============================] - 3s 219ms/step - loss: 5.5857e-04 - val_loss: 0.0012\n",
            "Epoch 59/100\n",
            "12/12 [==============================] - 3s 246ms/step - loss: 5.1278e-04 - val_loss: 7.3281e-04\n",
            "Epoch 60/100\n",
            "12/12 [==============================] - 3s 231ms/step - loss: 4.9698e-04 - val_loss: 5.7527e-04\n",
            "Epoch 61/100\n",
            "12/12 [==============================] - 4s 306ms/step - loss: 4.8271e-04 - val_loss: 0.0010\n",
            "Epoch 62/100\n",
            "12/12 [==============================] - 3s 220ms/step - loss: 5.1758e-04 - val_loss: 6.9565e-04\n",
            "Epoch 63/100\n",
            "12/12 [==============================] - 3s 223ms/step - loss: 5.9890e-04 - val_loss: 5.8308e-04\n",
            "Epoch 64/100\n",
            "12/12 [==============================] - 3s 220ms/step - loss: 6.1163e-04 - val_loss: 0.0014\n",
            "Epoch 65/100\n",
            "12/12 [==============================] - 4s 328ms/step - loss: 5.3850e-04 - val_loss: 6.1091e-04\n",
            "Epoch 66/100\n",
            "12/12 [==============================] - 3s 222ms/step - loss: 4.7679e-04 - val_loss: 5.0781e-04\n",
            "Epoch 67/100\n",
            "12/12 [==============================] - 3s 219ms/step - loss: 4.6716e-04 - val_loss: 0.0010\n",
            "Epoch 68/100\n",
            "12/12 [==============================] - 3s 220ms/step - loss: 4.7198e-04 - val_loss: 8.2760e-04\n",
            "Epoch 69/100\n",
            "12/12 [==============================] - 3s 254ms/step - loss: 4.6142e-04 - val_loss: 6.3160e-04\n",
            "Epoch 70/100\n",
            "12/12 [==============================] - 3s 283ms/step - loss: 4.4701e-04 - val_loss: 4.6522e-04\n",
            "Epoch 71/100\n",
            "12/12 [==============================] - 3s 220ms/step - loss: 4.3837e-04 - val_loss: 6.0532e-04\n",
            "Epoch 72/100\n",
            "12/12 [==============================] - 3s 220ms/step - loss: 4.8388e-04 - val_loss: 4.7995e-04\n",
            "Epoch 73/100\n",
            "12/12 [==============================] - 4s 314ms/step - loss: 4.4483e-04 - val_loss: 0.0015\n",
            "Epoch 74/100\n",
            "12/12 [==============================] - 4s 296ms/step - loss: 4.7744e-04 - val_loss: 4.7200e-04\n",
            "Epoch 75/100\n",
            "12/12 [==============================] - 3s 220ms/step - loss: 4.4474e-04 - val_loss: 4.2688e-04\n",
            "Epoch 76/100\n",
            "12/12 [==============================] - 3s 219ms/step - loss: 4.2395e-04 - val_loss: 9.7479e-04\n",
            "Epoch 77/100\n",
            "12/12 [==============================] - 3s 221ms/step - loss: 4.4757e-04 - val_loss: 4.2960e-04\n",
            "Epoch 78/100\n",
            "12/12 [==============================] - 4s 321ms/step - loss: 4.0957e-04 - val_loss: 4.2419e-04\n",
            "Epoch 79/100\n",
            "12/12 [==============================] - 3s 217ms/step - loss: 4.2340e-04 - val_loss: 4.3640e-04\n",
            "Epoch 80/100\n",
            "12/12 [==============================] - 3s 219ms/step - loss: 4.3587e-04 - val_loss: 8.5131e-04\n",
            "Epoch 81/100\n",
            "12/12 [==============================] - 3s 220ms/step - loss: 5.0057e-04 - val_loss: 7.6147e-04\n",
            "Epoch 82/100\n",
            "12/12 [==============================] - 5s 471ms/step - loss: 5.4825e-04 - val_loss: 4.4684e-04\n",
            "Epoch 83/100\n",
            "12/12 [==============================] - 3s 217ms/step - loss: 4.2106e-04 - val_loss: 4.6989e-04\n",
            "Epoch 84/100\n",
            "12/12 [==============================] - 3s 219ms/step - loss: 3.9738e-04 - val_loss: 4.8001e-04\n",
            "Epoch 85/100\n",
            "12/12 [==============================] - 3s 244ms/step - loss: 4.4803e-04 - val_loss: 8.2935e-04\n",
            "Epoch 86/100\n",
            "12/12 [==============================] - 3s 252ms/step - loss: 4.1884e-04 - val_loss: 7.5378e-04\n",
            "Epoch 87/100\n",
            "12/12 [==============================] - 3s 275ms/step - loss: 4.3336e-04 - val_loss: 3.8943e-04\n",
            "Epoch 88/100\n",
            "12/12 [==============================] - 4s 330ms/step - loss: 3.9338e-04 - val_loss: 0.0015\n",
            "Epoch 89/100\n",
            "12/12 [==============================] - 4s 353ms/step - loss: 4.2831e-04 - val_loss: 5.5608e-04\n",
            "Epoch 90/100\n",
            "12/12 [==============================] - 4s 361ms/step - loss: 4.0888e-04 - val_loss: 0.0012\n",
            "Epoch 91/100\n",
            "12/12 [==============================] - 3s 272ms/step - loss: 4.0329e-04 - val_loss: 5.9673e-04\n",
            "Epoch 92/100\n",
            "12/12 [==============================] - 3s 217ms/step - loss: 3.9387e-04 - val_loss: 8.4202e-04\n",
            "Epoch 93/100\n",
            "12/12 [==============================] - 3s 219ms/step - loss: 4.5361e-04 - val_loss: 0.0015\n",
            "Epoch 94/100\n",
            "12/12 [==============================] - 3s 257ms/step - loss: 4.3555e-04 - val_loss: 5.9423e-04\n",
            "Epoch 95/100\n",
            "12/12 [==============================] - 3s 276ms/step - loss: 3.6502e-04 - val_loss: 5.1999e-04\n",
            "Epoch 96/100\n",
            "12/12 [==============================] - 3s 217ms/step - loss: 3.8944e-04 - val_loss: 3.3998e-04\n",
            "Epoch 97/100\n",
            "12/12 [==============================] - 3s 222ms/step - loss: 3.8870e-04 - val_loss: 4.5492e-04\n",
            "Epoch 98/100\n",
            "12/12 [==============================] - 3s 220ms/step - loss: 3.8125e-04 - val_loss: 3.6545e-04\n",
            "Epoch 99/100\n",
            "12/12 [==============================] - 4s 328ms/step - loss: 3.4479e-04 - val_loss: 3.4647e-04\n",
            "Epoch 100/100\n",
            "12/12 [==============================] - 3s 223ms/step - loss: 3.5181e-04 - val_loss: 6.3442e-04\n"
          ]
        },
        {
          "output_type": "execute_result",
          "data": {
            "text/plain": [
              "<keras.callbacks.History at 0x7e378e681390>"
            ]
          },
          "metadata": {},
          "execution_count": 47
        }
      ]
    },
    {
      "cell_type": "code",
      "source": [
        "### Lets Do the prediction and check performance metrics\n",
        "train_predict=model.predict(X_train)\n",
        "test_predict=model.predict(X_test)"
      ],
      "metadata": {
        "colab": {
          "base_uri": "https://localhost:8080/"
        },
        "id": "9HRxHu_7aLFL",
        "outputId": "20cceaa3-7ea3-458f-b5da-44408e94d153"
      },
      "execution_count": 63,
      "outputs": [
        {
          "output_type": "stream",
          "name": "stdout",
          "text": [
            "23/23 [==============================] - 1s 42ms/step\n",
            "11/11 [==============================] - 0s 41ms/step\n"
          ]
        }
      ]
    },
    {
      "cell_type": "code",
      "source": [
        "### Calculating R2_Score\n",
        "from sklearn.metrics import r2_score\n",
        "r2_score(y_train,train_predict)*100"
      ],
      "metadata": {
        "colab": {
          "base_uri": "https://localhost:8080/"
        },
        "id": "u8HheTxQXrrN",
        "outputId": "0b15f837-12ce-4e42-9f9f-fc91ff28069d"
      },
      "execution_count": 56,
      "outputs": [
        {
          "output_type": "execute_result",
          "data": {
            "text/plain": [
              "98.64601533110047"
            ]
          },
          "metadata": {},
          "execution_count": 56
        }
      ]
    },
    {
      "cell_type": "code",
      "source": [
        "### Calculate RMSE performance metrics\n",
        "import math\n",
        "from sklearn.metrics import mean_squared_error\n",
        "math.sqrt(mean_squared_error(y_train,train_predict))"
      ],
      "metadata": {
        "colab": {
          "base_uri": "https://localhost:8080/"
        },
        "id": "JFg1JeYDaLac",
        "outputId": "4f08f8ce-9e67-4a99-aee8-18758ab217e1"
      },
      "execution_count": 54,
      "outputs": [
        {
          "output_type": "execute_result",
          "data": {
            "text/plain": [
              "0.018888954363332912"
            ]
          },
          "metadata": {},
          "execution_count": 54
        }
      ]
    },
    {
      "cell_type": "code",
      "source": [
        "### Test Data RMSE\n",
        "math.sqrt(mean_squared_error(ytest,test_predict))"
      ],
      "metadata": {
        "colab": {
          "base_uri": "https://localhost:8080/"
        },
        "id": "VcbGJ9doaSNo",
        "outputId": "c710ca71-7ea1-4b6c-a38b-8e1d1af51bda"
      },
      "execution_count": 55,
      "outputs": [
        {
          "output_type": "execute_result",
          "data": {
            "text/plain": [
              "0.02518762296303439"
            ]
          },
          "metadata": {},
          "execution_count": 55
        }
      ]
    },
    {
      "cell_type": "code",
      "source": [
        "### Plotting\n",
        "# shift train predictions for plotting\n",
        "look_back=100\n",
        "trainPredictPlot = np.empty_like(df1)\n",
        "trainPredictPlot[:, :] = np.nan\n",
        "trainPredictPlot[look_back:len(train_predict)+look_back, :] = train_predict\n",
        "# shift test predictions for plotting\n",
        "testPredictPlot = np.empty_like(df1)\n",
        "testPredictPlot[:, :] = np.nan\n",
        "testPredictPlot[len(train_predict)+(look_back*2)+1:len(df1)-1, :] = test_predict\n",
        "# plot baseline and predictions\n",
        "plt.plot(df2, label = 'Original')\n",
        "plt.plot(trainPredictPlot, label = 'Training')\n",
        "plt.plot(testPredictPlot, label = 'Predicted')\n",
        "plt.title('APPLE Stock price prediction')\n",
        "plt.legend()\n",
        "plt.show()"
      ],
      "metadata": {
        "colab": {
          "base_uri": "https://localhost:8080/",
          "height": 452
        },
        "id": "P7lDeL-3Z38p",
        "outputId": "46cef14b-30ab-42aa-c07b-730cc2c2cc3c"
      },
      "execution_count": 68,
      "outputs": [
        {
          "output_type": "display_data",
          "data": {
            "text/plain": [
              "<Figure size 640x480 with 1 Axes>"
            ],
            "image/png": "[encoded data removed]"
          },
          "metadata": {}
        }
      ]
    },
    {
      "cell_type": "code",
      "source": [],
      "metadata": {
        "id": "G9tBJAybaELA"
      },
      "execution_count": null,
      "outputs": []
    }
  ]
}