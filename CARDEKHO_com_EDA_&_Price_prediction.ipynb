{
  "nbformat": 4,
  "nbformat_minor": 0,
  "metadata": {
    "colab": {
      "provenance": [],
      "authorship_tag": "ABX9TyPtKFDAVkHXSRKJG3QTbEwj",
      "include_colab_link": true
    },
    "kernelspec": {
      "name": "python3",
      "display_name": "Python 3"
    },
    "language_info": {
      "name": "python"
    }
  },
  "cells": [
    {
      "cell_type": "markdown",
      "metadata": {
        "id": "view-in-github",
        "colab_type": "text"
      },
      "source": [
        "<a href=\"https://colab.research.google.com/github/Imshubhham/Imshubham/blob/main/CARDEKHO_com_EDA_%26_Price_prediction.ipynb\" target=\"_parent\"><img src=\"https://colab.research.google.com/assets/colab-badge.svg\" alt=\"Open In Colab\"/></a>"
      ]
    },
    {
      "cell_type": "code",
      "execution_count": 177,
      "metadata": {
        "id": "mMPCdzYcNed-"
      },
      "outputs": [],
      "source": [
        "import numpy as np\n",
        "import pandas as pd\n",
        "import matplotlib.pyplot as plt\n",
        "import seaborn as sns"
      ]
    },
    {
      "cell_type": "code",
      "source": [
        "df = pd.read_csv('CAR DETAILS FROM CAR DEKHO.csv')"
      ],
      "metadata": {
        "id": "_JcoXFYdNx69"
      },
      "execution_count": 178,
      "outputs": []
    },
    {
      "cell_type": "code",
      "source": [
        "df.head()"
      ],
      "metadata": {
        "colab": {
          "base_uri": "https://localhost:8080/",
          "height": 206
        },
        "id": "7J6yOsceN9mh",
        "outputId": "1a9bf27c-fc47-47be-ae3e-a53655cdaa54"
      },
      "execution_count": 179,
      "outputs": [
        {
          "output_type": "execute_result",
          "data": {
            "text/plain": [
              "                       name  year  selling_price  km_driven    fuel  \\\n",
              "0             Maruti 800 AC  2007          60000      70000  Petrol   \n",
              "1  Maruti Wagon R LXI Minor  2007         135000      50000  Petrol   \n",
              "2      Hyundai Verna 1.6 SX  2012         600000     100000  Diesel   \n",
              "3    Datsun RediGO T Option  2017         250000      46000  Petrol   \n",
              "4     Honda Amaze VX i-DTEC  2014         450000     141000  Diesel   \n",
              "\n",
              "  seller_type transmission         owner  \n",
              "0  Individual       Manual   First Owner  \n",
              "1  Individual       Manual   First Owner  \n",
              "2  Individual       Manual   First Owner  \n",
              "3  Individual       Manual   First Owner  \n",
              "4  Individual       Manual  Second Owner  "
            ],
            "text/html": [
              "\n",
              "\n",
              "  <div id=\"df-0468dc74-d62d-4296-ac20-13340fe6e96b\">\n",
              "    <div class=\"colab-df-container\">\n",
              "      <div>\n",
              "<style scoped>\n",
              "    .dataframe tbody tr th:only-of-type {\n",
              "        vertical-align: middle;\n",
              "    }\n",
              "\n",
              "    .dataframe tbody tr th {\n",
              "        vertical-align: top;\n",
              "    }\n",
              "\n",
              "    .dataframe thead th {\n",
              "        text-align: right;\n",
              "    }\n",
              "</style>\n",
              "<table border=\"1\" class=\"dataframe\">\n",
              "  <thead>\n",
              "    <tr style=\"text-align: right;\">\n",
              "      <th></th>\n",
              "      <th>name</th>\n",
              "      <th>year</th>\n",
              "      <th>selling_price</th>\n",
              "      <th>km_driven</th>\n",
              "      <th>fuel</th>\n",
              "      <th>seller_type</th>\n",
              "      <th>transmission</th>\n",
              "      <th>owner</th>\n",
              "    </tr>\n",
              "  </thead>\n",
              "  <tbody>\n",
              "    <tr>\n",
              "      <th>0</th>\n",
              "      <td>Maruti 800 AC</td>\n",
              "      <td>2007</td>\n",
              "      <td>60000</td>\n",
              "      <td>70000</td>\n",
              "      <td>Petrol</td>\n",
              "      <td>Individual</td>\n",
              "      <td>Manual</td>\n",
              "      <td>First Owner</td>\n",
              "    </tr>\n",
              "    <tr>\n",
              "      <th>1</th>\n",
              "      <td>Maruti Wagon R LXI Minor</td>\n",
              "      <td>2007</td>\n",
              "      <td>135000</td>\n",
              "      <td>50000</td>\n",
              "      <td>Petrol</td>\n",
              "      <td>Individual</td>\n",
              "      <td>Manual</td>\n",
              "      <td>First Owner</td>\n",
              "    </tr>\n",
              "    <tr>\n",
              "      <th>2</th>\n",
              "      <td>Hyundai Verna 1.6 SX</td>\n",
              "      <td>2012</td>\n",
              "      <td>600000</td>\n",
              "      <td>100000</td>\n",
              "      <td>Diesel</td>\n",
              "      <td>Individual</td>\n",
              "      <td>Manual</td>\n",
              "      <td>First Owner</td>\n",
              "    </tr>\n",
              "    <tr>\n",
              "      <th>3</th>\n",
              "      <td>Datsun RediGO T Option</td>\n",
              "      <td>2017</td>\n",
              "      <td>250000</td>\n",
              "      <td>46000</td>\n",
              "      <td>Petrol</td>\n",
              "      <td>Individual</td>\n",
              "      <td>Manual</td>\n",
              "      <td>First Owner</td>\n",
              "    </tr>\n",
              "    <tr>\n",
              "      <th>4</th>\n",
              "      <td>Honda Amaze VX i-DTEC</td>\n",
              "      <td>2014</td>\n",
              "      <td>450000</td>\n",
              "      <td>141000</td>\n",
              "      <td>Diesel</td>\n",
              "      <td>Individual</td>\n",
              "      <td>Manual</td>\n",
              "      <td>Second Owner</td>\n",
              "    </tr>\n",
              "  </tbody>\n",
              "</table>\n",
              "</div>\n",
              "      <button class=\"colab-df-convert\" onclick=\"convertToInteractive('df-0468dc74-d62d-4296-ac20-13340fe6e96b')\"\n",
              "              title=\"Convert this dataframe to an interactive table.\"\n",
              "              style=\"display:none;\">\n",
              "\n",
              "  <svg xmlns=\"http://www.w3.org/2000/svg\" height=\"24px\"viewBox=\"0 0 24 24\"\n",
              "       width=\"24px\">\n",
              "    <path d=\"M0 0h24v24H0V0z\" fill=\"none\"/>\n",
              "    <path d=\"M18.56 5.44l.94 2.06.94-2.06 2.06-.94-2.06-.94-.94-2.06-.94 2.06-2.06.94zm-11 1L8.5 8.5l.94-2.06 2.06-.94-2.06-.94L8.5 2.5l-.94 2.06-2.06.94zm10 10l.94 2.06.94-2.06 2.06-.94-2.06-.94-.94-2.06-.94 2.06-2.06.94z\"/><path d=\"M17.41 7.96l-1.37-1.37c-.4-.4-.92-.59-1.43-.59-.52 0-1.04.2-1.43.59L10.3 9.45l-7.72 7.72c-.78.78-.78 2.05 0 2.83L4 21.41c.39.39.9.59 1.41.59.51 0 1.02-.2 1.41-.59l7.78-7.78 2.81-2.81c.8-.78.8-2.07 0-2.86zM5.41 20L4 18.59l7.72-7.72 1.47 1.35L5.41 20z\"/>\n",
              "  </svg>\n",
              "      </button>\n",
              "\n",
              "\n",
              "\n",
              "    <div id=\"df-ac51033b-5ae6-42c4-874a-adf470f13e0c\">\n",
              "      <button class=\"colab-df-quickchart\" onclick=\"quickchart('df-ac51033b-5ae6-42c4-874a-adf470f13e0c')\"\n",
              "              title=\"Suggest charts.\"\n",
              "              style=\"display:none;\">\n",
              "\n",
              "<svg xmlns=\"http://www.w3.org/2000/svg\" height=\"24px\"viewBox=\"0 0 24 24\"\n",
              "     width=\"24px\">\n",
              "    <g>\n",
              "        <path d=\"M19 3H5c-1.1 0-2 .9-2 2v14c0 1.1.9 2 2 2h14c1.1 0 2-.9 2-2V5c0-1.1-.9-2-2-2zM9 17H7v-7h2v7zm4 0h-2V7h2v10zm4 0h-2v-4h2v4z\"/>\n",
              "    </g>\n",
              "</svg>\n",
              "      </button>\n",
              "    </div>\n",
              "\n",
              "<style>\n",
              "  .colab-df-quickchart {\n",
              "    background-color: #E8F0FE;\n",
              "    border: none;\n",
              "    border-radius: 50%;\n",
              "    cursor: pointer;\n",
              "    display: none;\n",
              "    fill: #1967D2;\n",
              "    height: 32px;\n",
              "    padding: 0 0 0 0;\n",
              "    width: 32px;\n",
              "  }\n",
              "\n",
              "  .colab-df-quickchart:hover {\n",
              "    background-color: #E2EBFA;\n",
              "    box-shadow: 0px 1px 2px rgba(60, 64, 67, 0.3), 0px 1px 3px 1px rgba(60, 64, 67, 0.15);\n",
              "    fill: #174EA6;\n",
              "  }\n",
              "\n",
              "  [theme=dark] .colab-df-quickchart {\n",
              "    background-color: #3B4455;\n",
              "    fill: #D2E3FC;\n",
              "  }\n",
              "\n",
              "  [theme=dark] .colab-df-quickchart:hover {\n",
              "    background-color: #434B5C;\n",
              "    box-shadow: 0px 1px 3px 1px rgba(0, 0, 0, 0.15);\n",
              "    filter: drop-shadow(0px 1px 2px rgba(0, 0, 0, 0.3));\n",
              "    fill: #FFFFFF;\n",
              "  }\n",
              "</style>\n",
              "\n",
              "    <script>\n",
              "      async function quickchart(key) {\n",
              "        const containerElement = document.querySelector('#' + key);\n",
              "        const charts = await google.colab.kernel.invokeFunction(\n",
              "            'suggestCharts', [key], {});\n",
              "      }\n",
              "    </script>\n",
              "\n",
              "      <script>\n",
              "\n",
              "function displayQuickchartButton(domScope) {\n",
              "  let quickchartButtonEl =\n",
              "    domScope.querySelector('#df-ac51033b-5ae6-42c4-874a-adf470f13e0c button.colab-df-quickchart');\n",
              "  quickchartButtonEl.style.display =\n",
              "    google.colab.kernel.accessAllowed ? 'block' : 'none';\n",
              "}\n",
              "\n",
              "        displayQuickchartButton(document);\n",
              "      </script>\n",
              "      <style>\n",
              "    .colab-df-container {\n",
              "      display:flex;\n",
              "      flex-wrap:wrap;\n",
              "      gap: 12px;\n",
              "    }\n",
              "\n",
              "    .colab-df-convert {\n",
              "      background-color: #E8F0FE;\n",
              "      border: none;\n",
              "      border-radius: 50%;\n",
              "      cursor: pointer;\n",
              "      display: none;\n",
              "      fill: #1967D2;\n",
              "      height: 32px;\n",
              "      padding: 0 0 0 0;\n",
              "      width: 32px;\n",
              "    }\n",
              "\n",
              "    .colab-df-convert:hover {\n",
              "      background-color: #E2EBFA;\n",
              "      box-shadow: 0px 1px 2px rgba(60, 64, 67, 0.3), 0px 1px 3px 1px rgba(60, 64, 67, 0.15);\n",
              "      fill: #174EA6;\n",
              "    }\n",
              "\n",
              "    [theme=dark] .colab-df-convert {\n",
              "      background-color: #3B4455;\n",
              "      fill: #D2E3FC;\n",
              "    }\n",
              "\n",
              "    [theme=dark] .colab-df-convert:hover {\n",
              "      background-color: #434B5C;\n",
              "      box-shadow: 0px 1px 3px 1px rgba(0, 0, 0, 0.15);\n",
              "      filter: drop-shadow(0px 1px 2px rgba(0, 0, 0, 0.3));\n",
              "      fill: #FFFFFF;\n",
              "    }\n",
              "  </style>\n",
              "\n",
              "      <script>\n",
              "        const buttonEl =\n",
              "          document.querySelector('#df-0468dc74-d62d-4296-ac20-13340fe6e96b button.colab-df-convert');\n",
              "        buttonEl.style.display =\n",
              "          google.colab.kernel.accessAllowed ? 'block' : 'none';\n",
              "\n",
              "        async function convertToInteractive(key) {\n",
              "          const element = document.querySelector('#df-0468dc74-d62d-4296-ac20-13340fe6e96b');\n",
              "          const dataTable =\n",
              "            await google.colab.kernel.invokeFunction('convertToInteractive',\n",
              "                                                     [key], {});\n",
              "          if (!dataTable) return;\n",
              "\n",
              "          const docLinkHtml = 'Like what you see? Visit the ' +\n",
              "            '<a target=\"_blank\" href=https://colab.research.google.com/notebooks/data_table.ipynb>data table notebook</a>'\n",
              "            + ' to learn more about interactive tables.';\n",
              "          element.innerHTML = '';\n",
              "          dataTable['output_type'] = 'display_data';\n",
              "          await google.colab.output.renderOutput(dataTable, element);\n",
              "          const docLink = document.createElement('div');\n",
              "          docLink.innerHTML = docLinkHtml;\n",
              "          element.appendChild(docLink);\n",
              "        }\n",
              "      </script>\n",
              "    </div>\n",
              "  </div>\n"
            ]
          },
          "metadata": {},
          "execution_count": 179
        }
      ]
    },
    {
      "cell_type": "code",
      "source": [
        "df.describe()"
      ],
      "metadata": {
        "colab": {
          "base_uri": "https://localhost:8080/",
          "height": 300
        },
        "id": "Q188_BvjOHsH",
        "outputId": "0a9716df-92f5-44c2-dba0-b205c9506aa8"
      },
      "execution_count": 180,
      "outputs": [
        {
          "output_type": "execute_result",
          "data": {
            "text/plain": [
              "              year  selling_price      km_driven\n",
              "count  4340.000000   4.340000e+03    4340.000000\n",
              "mean   2013.090783   5.041273e+05   66215.777419\n",
              "std       4.215344   5.785487e+05   46644.102194\n",
              "min    1992.000000   2.000000e+04       1.000000\n",
              "25%    2011.000000   2.087498e+05   35000.000000\n",
              "50%    2014.000000   3.500000e+05   60000.000000\n",
              "75%    2016.000000   6.000000e+05   90000.000000\n",
              "max    2020.000000   8.900000e+06  806599.000000"
            ],
            "text/html": [
              "\n",
              "\n",
              "  <div id=\"df-8c4d4272-4ccc-46aa-980d-55eea5e9f283\">\n",
              "    <div class=\"colab-df-container\">\n",
              "      <div>\n",
              "<style scoped>\n",
              "    .dataframe tbody tr th:only-of-type {\n",
              "        vertical-align: middle;\n",
              "    }\n",
              "\n",
              "    .dataframe tbody tr th {\n",
              "        vertical-align: top;\n",
              "    }\n",
              "\n",
              "    .dataframe thead th {\n",
              "        text-align: right;\n",
              "    }\n",
              "</style>\n",
              "<table border=\"1\" class=\"dataframe\">\n",
              "  <thead>\n",
              "    <tr style=\"text-align: right;\">\n",
              "      <th></th>\n",
              "      <th>year</th>\n",
              "      <th>selling_price</th>\n",
              "      <th>km_driven</th>\n",
              "    </tr>\n",
              "  </thead>\n",
              "  <tbody>\n",
              "    <tr>\n",
              "      <th>count</th>\n",
              "      <td>4340.000000</td>\n",
              "      <td>4.340000e+03</td>\n",
              "      <td>4340.000000</td>\n",
              "    </tr>\n",
              "    <tr>\n",
              "      <th>mean</th>\n",
              "      <td>2013.090783</td>\n",
              "      <td>5.041273e+05</td>\n",
              "      <td>66215.777419</td>\n",
              "    </tr>\n",
              "    <tr>\n",
              "      <th>std</th>\n",
              "      <td>4.215344</td>\n",
              "      <td>5.785487e+05</td>\n",
              "      <td>46644.102194</td>\n",
              "    </tr>\n",
              "    <tr>\n",
              "      <th>min</th>\n",
              "      <td>1992.000000</td>\n",
              "      <td>2.000000e+04</td>\n",
              "      <td>1.000000</td>\n",
              "    </tr>\n",
              "    <tr>\n",
              "      <th>25%</th>\n",
              "      <td>2011.000000</td>\n",
              "      <td>2.087498e+05</td>\n",
              "      <td>35000.000000</td>\n",
              "    </tr>\n",
              "    <tr>\n",
              "      <th>50%</th>\n",
              "      <td>2014.000000</td>\n",
              "      <td>3.500000e+05</td>\n",
              "      <td>60000.000000</td>\n",
              "    </tr>\n",
              "    <tr>\n",
              "      <th>75%</th>\n",
              "      <td>2016.000000</td>\n",
              "      <td>6.000000e+05</td>\n",
              "      <td>90000.000000</td>\n",
              "    </tr>\n",
              "    <tr>\n",
              "      <th>max</th>\n",
              "      <td>2020.000000</td>\n",
              "      <td>8.900000e+06</td>\n",
              "      <td>806599.000000</td>\n",
              "    </tr>\n",
              "  </tbody>\n",
              "</table>\n",
              "</div>\n",
              "      <button class=\"colab-df-convert\" onclick=\"convertToInteractive('df-8c4d4272-4ccc-46aa-980d-55eea5e9f283')\"\n",
              "              title=\"Convert this dataframe to an interactive table.\"\n",
              "              style=\"display:none;\">\n",
              "\n",
              "  <svg xmlns=\"http://www.w3.org/2000/svg\" height=\"24px\"viewBox=\"0 0 24 24\"\n",
              "       width=\"24px\">\n",
              "    <path d=\"M0 0h24v24H0V0z\" fill=\"none\"/>\n",
              "    <path d=\"M18.56 5.44l.94 2.06.94-2.06 2.06-.94-2.06-.94-.94-2.06-.94 2.06-2.06.94zm-11 1L8.5 8.5l.94-2.06 2.06-.94-2.06-.94L8.5 2.5l-.94 2.06-2.06.94zm10 10l.94 2.06.94-2.06 2.06-.94-2.06-.94-.94-2.06-.94 2.06-2.06.94z\"/><path d=\"M17.41 7.96l-1.37-1.37c-.4-.4-.92-.59-1.43-.59-.52 0-1.04.2-1.43.59L10.3 9.45l-7.72 7.72c-.78.78-.78 2.05 0 2.83L4 21.41c.39.39.9.59 1.41.59.51 0 1.02-.2 1.41-.59l7.78-7.78 2.81-2.81c.8-.78.8-2.07 0-2.86zM5.41 20L4 18.59l7.72-7.72 1.47 1.35L5.41 20z\"/>\n",
              "  </svg>\n",
              "      </button>\n",
              "\n",
              "\n",
              "\n",
              "    <div id=\"df-9ab48aba-f5ec-40c8-b945-c947d2cf9107\">\n",
              "      <button class=\"colab-df-quickchart\" onclick=\"quickchart('df-9ab48aba-f5ec-40c8-b945-c947d2cf9107')\"\n",
              "              title=\"Suggest charts.\"\n",
              "              style=\"display:none;\">\n",
              "\n",
              "<svg xmlns=\"http://www.w3.org/2000/svg\" height=\"24px\"viewBox=\"0 0 24 24\"\n",
              "     width=\"24px\">\n",
              "    <g>\n",
              "        <path d=\"M19 3H5c-1.1 0-2 .9-2 2v14c0 1.1.9 2 2 2h14c1.1 0 2-.9 2-2V5c0-1.1-.9-2-2-2zM9 17H7v-7h2v7zm4 0h-2V7h2v10zm4 0h-2v-4h2v4z\"/>\n",
              "    </g>\n",
              "</svg>\n",
              "      </button>\n",
              "    </div>\n",
              "\n",
              "<style>\n",
              "  .colab-df-quickchart {\n",
              "    background-color: #E8F0FE;\n",
              "    border: none;\n",
              "    border-radius: 50%;\n",
              "    cursor: pointer;\n",
              "    display: none;\n",
              "    fill: #1967D2;\n",
              "    height: 32px;\n",
              "    padding: 0 0 0 0;\n",
              "    width: 32px;\n",
              "  }\n",
              "\n",
              "  .colab-df-quickchart:hover {\n",
              "    background-color: #E2EBFA;\n",
              "    box-shadow: 0px 1px 2px rgba(60, 64, 67, 0.3), 0px 1px 3px 1px rgba(60, 64, 67, 0.15);\n",
              "    fill: #174EA6;\n",
              "  }\n",
              "\n",
              "  [theme=dark] .colab-df-quickchart {\n",
              "    background-color: #3B4455;\n",
              "    fill: #D2E3FC;\n",
              "  }\n",
              "\n",
              "  [theme=dark] .colab-df-quickchart:hover {\n",
              "    background-color: #434B5C;\n",
              "    box-shadow: 0px 1px 3px 1px rgba(0, 0, 0, 0.15);\n",
              "    filter: drop-shadow(0px 1px 2px rgba(0, 0, 0, 0.3));\n",
              "    fill: #FFFFFF;\n",
              "  }\n",
              "</style>\n",
              "\n",
              "    <script>\n",
              "      async function quickchart(key) {\n",
              "        const containerElement = document.querySelector('#' + key);\n",
              "        const charts = await google.colab.kernel.invokeFunction(\n",
              "            'suggestCharts', [key], {});\n",
              "      }\n",
              "    </script>\n",
              "\n",
              "      <script>\n",
              "\n",
              "function displayQuickchartButton(domScope) {\n",
              "  let quickchartButtonEl =\n",
              "    domScope.querySelector('#df-9ab48aba-f5ec-40c8-b945-c947d2cf9107 button.colab-df-quickchart');\n",
              "  quickchartButtonEl.style.display =\n",
              "    google.colab.kernel.accessAllowed ? 'block' : 'none';\n",
              "}\n",
              "\n",
              "        displayQuickchartButton(document);\n",
              "      </script>\n",
              "      <style>\n",
              "    .colab-df-container {\n",
              "      display:flex;\n",
              "      flex-wrap:wrap;\n",
              "      gap: 12px;\n",
              "    }\n",
              "\n",
              "    .colab-df-convert {\n",
              "      background-color: #E8F0FE;\n",
              "      border: none;\n",
              "      border-radius: 50%;\n",
              "      cursor: pointer;\n",
              "      display: none;\n",
              "      fill: #1967D2;\n",
              "      height: 32px;\n",
              "      padding: 0 0 0 0;\n",
              "      width: 32px;\n",
              "    }\n",
              "\n",
              "    .colab-df-convert:hover {\n",
              "      background-color: #E2EBFA;\n",
              "      box-shadow: 0px 1px 2px rgba(60, 64, 67, 0.3), 0px 1px 3px 1px rgba(60, 64, 67, 0.15);\n",
              "      fill: #174EA6;\n",
              "    }\n",
              "\n",
              "    [theme=dark] .colab-df-convert {\n",
              "      background-color: #3B4455;\n",
              "      fill: #D2E3FC;\n",
              "    }\n",
              "\n",
              "    [theme=dark] .colab-df-convert:hover {\n",
              "      background-color: #434B5C;\n",
              "      box-shadow: 0px 1px 3px 1px rgba(0, 0, 0, 0.15);\n",
              "      filter: drop-shadow(0px 1px 2px rgba(0, 0, 0, 0.3));\n",
              "      fill: #FFFFFF;\n",
              "    }\n",
              "  </style>\n",
              "\n",
              "      <script>\n",
              "        const buttonEl =\n",
              "          document.querySelector('#df-8c4d4272-4ccc-46aa-980d-55eea5e9f283 button.colab-df-convert');\n",
              "        buttonEl.style.display =\n",
              "          google.colab.kernel.accessAllowed ? 'block' : 'none';\n",
              "\n",
              "        async function convertToInteractive(key) {\n",
              "          const element = document.querySelector('#df-8c4d4272-4ccc-46aa-980d-55eea5e9f283');\n",
              "          const dataTable =\n",
              "            await google.colab.kernel.invokeFunction('convertToInteractive',\n",
              "                                                     [key], {});\n",
              "          if (!dataTable) return;\n",
              "\n",
              "          const docLinkHtml = 'Like what you see? Visit the ' +\n",
              "            '<a target=\"_blank\" href=https://colab.research.google.com/notebooks/data_table.ipynb>data table notebook</a>'\n",
              "            + ' to learn more about interactive tables.';\n",
              "          element.innerHTML = '';\n",
              "          dataTable['output_type'] = 'display_data';\n",
              "          await google.colab.output.renderOutput(dataTable, element);\n",
              "          const docLink = document.createElement('div');\n",
              "          docLink.innerHTML = docLinkHtml;\n",
              "          element.appendChild(docLink);\n",
              "        }\n",
              "      </script>\n",
              "    </div>\n",
              "  </div>\n"
            ]
          },
          "metadata": {},
          "execution_count": 180
        }
      ]
    },
    {
      "cell_type": "code",
      "source": [
        "df.info()"
      ],
      "metadata": {
        "colab": {
          "base_uri": "https://localhost:8080/"
        },
        "id": "_ObIrOVvOPqn",
        "outputId": "6676ed92-b2cb-4a64-b02a-b166dc1f7f8c"
      },
      "execution_count": 181,
      "outputs": [
        {
          "output_type": "stream",
          "name": "stdout",
          "text": [
            "<class 'pandas.core.frame.DataFrame'>\n",
            "RangeIndex: 4340 entries, 0 to 4339\n",
            "Data columns (total 8 columns):\n",
            " #   Column         Non-Null Count  Dtype \n",
            "---  ------         --------------  ----- \n",
            " 0   name           4340 non-null   object\n",
            " 1   year           4340 non-null   int64 \n",
            " 2   selling_price  4340 non-null   int64 \n",
            " 3   km_driven      4340 non-null   int64 \n",
            " 4   fuel           4340 non-null   object\n",
            " 5   seller_type    4340 non-null   object\n",
            " 6   transmission   4340 non-null   object\n",
            " 7   owner          4340 non-null   object\n",
            "dtypes: int64(3), object(5)\n",
            "memory usage: 271.4+ KB\n"
          ]
        }
      ]
    },
    {
      "cell_type": "code",
      "source": [
        "df.isnull().sum()"
      ],
      "metadata": {
        "colab": {
          "base_uri": "https://localhost:8080/"
        },
        "id": "5OxmVshLPGwc",
        "outputId": "cdc59ac3-0758-4de7-9d2c-51c7d01b4c94"
      },
      "execution_count": 182,
      "outputs": [
        {
          "output_type": "execute_result",
          "data": {
            "text/plain": [
              "name             0\n",
              "year             0\n",
              "selling_price    0\n",
              "km_driven        0\n",
              "fuel             0\n",
              "seller_type      0\n",
              "transmission     0\n",
              "owner            0\n",
              "dtype: int64"
            ]
          },
          "metadata": {},
          "execution_count": 182
        }
      ]
    },
    {
      "cell_type": "markdown",
      "source": [
        "# Exploratory Data Analysis"
      ],
      "metadata": {
        "id": "UwIlNI6JX5lh"
      }
    },
    {
      "cell_type": "code",
      "source": [
        "df.corr()['selling_price']"
      ],
      "metadata": {
        "colab": {
          "base_uri": "https://localhost:8080/"
        },
        "id": "zDHZuezOOQ7S",
        "outputId": "2b39980f-9270-4eef-a930-e63829c9e8e9"
      },
      "execution_count": 183,
      "outputs": [
        {
          "output_type": "stream",
          "name": "stderr",
          "text": [
            "<ipython-input-183-c0ea742623df>:1: FutureWarning: The default value of numeric_only in DataFrame.corr is deprecated. In a future version, it will default to False. Select only valid columns or specify the value of numeric_only to silence this warning.\n",
            "  df.corr()['selling_price']\n"
          ]
        },
        {
          "output_type": "execute_result",
          "data": {
            "text/plain": [
              "year             0.413922\n",
              "selling_price    1.000000\n",
              "km_driven       -0.192289\n",
              "Name: selling_price, dtype: float64"
            ]
          },
          "metadata": {},
          "execution_count": 183
        }
      ]
    },
    {
      "cell_type": "code",
      "source": [
        "sns.countplot(x = df['fuel'])"
      ],
      "metadata": {
        "colab": {
          "base_uri": "https://localhost:8080/",
          "height": 466
        },
        "id": "tdTBVLs_Ovik",
        "outputId": "be01fff8-9025-4f27-815f-eac6824742b1"
      },
      "execution_count": 184,
      "outputs": [
        {
          "output_type": "execute_result",
          "data": {
            "text/plain": [
              "<Axes: xlabel='fuel', ylabel='count'>"
            ]
          },
          "metadata": {},
          "execution_count": 184
        },
        {
          "output_type": "display_data",
          "data": {
            "text/plain": [
              "<Figure size 640x480 with 1 Axes>"
            ],
            "image/png": "[encoded data removed]"
          },
          "metadata": {}
        }
      ]
    },
    {
      "cell_type": "code",
      "source": [
        "sns.countplot(x = df['seller_type'])"
      ],
      "metadata": {
        "colab": {
          "base_uri": "https://localhost:8080/",
          "height": 467
        },
        "id": "MGj42AS3PCtq",
        "outputId": "c0aa7821-1f20-4621-c19c-8f93da00239a"
      },
      "execution_count": 185,
      "outputs": [
        {
          "output_type": "execute_result",
          "data": {
            "text/plain": [
              "<Axes: xlabel='seller_type', ylabel='count'>"
            ]
          },
          "metadata": {},
          "execution_count": 185
        },
        {
          "output_type": "display_data",
          "data": {
            "text/plain": [
              "<Figure size 640x480 with 1 Axes>"
            ],
            "image/png": "[encoded data removed]"
          },
          "metadata": {}
        }
      ]
    },
    {
      "cell_type": "code",
      "source": [
        "sns.countplot(x = df['transmission'])"
      ],
      "metadata": {
        "colab": {
          "base_uri": "https://localhost:8080/",
          "height": 466
        },
        "id": "NKCIDOzYPS5T",
        "outputId": "7f19d068-87ae-4bed-d82e-4c0583442340"
      },
      "execution_count": 186,
      "outputs": [
        {
          "output_type": "execute_result",
          "data": {
            "text/plain": [
              "<Axes: xlabel='transmission', ylabel='count'>"
            ]
          },
          "metadata": {},
          "execution_count": 186
        },
        {
          "output_type": "display_data",
          "data": {
            "text/plain": [
              "<Figure size 640x480 with 1 Axes>"
            ],
            "image/png": "[encoded data removed]"
          },
          "metadata": {}
        }
      ]
    },
    {
      "cell_type": "code",
      "source": [
        "sns.countplot(x = df['owner'])\n",
        "plt.xticks(rotation = 45)\n",
        "plt.show()"
      ],
      "metadata": {
        "colab": {
          "base_uri": "https://localhost:8080/",
          "height": 557
        },
        "id": "1gsqb5nxPe5F",
        "outputId": "563124fe-6f7b-455f-c898-c96f42adaa7d"
      },
      "execution_count": 187,
      "outputs": [
        {
          "output_type": "display_data",
          "data": {
            "text/plain": [
              "<Figure size 640x480 with 1 Axes>"
            ],
            "image/png": "[encoded data removed]"
          },
          "metadata": {}
        }
      ]
    },
    {
      "cell_type": "code",
      "source": [
        "df['owner'].value_counts().sort_values().plot.pie(explode = (0.1, 0.1, 0.1, 0.1, 0.1) , autopct='%1.1f%%')"
      ],
      "metadata": {
        "colab": {
          "base_uri": "https://localhost:8080/",
          "height": 423
        },
        "id": "UeU3qbE6Pq8Y",
        "outputId": "8eaf47af-78cf-47cb-c28b-8e0ab7dad94a"
      },
      "execution_count": 188,
      "outputs": [
        {
          "output_type": "execute_result",
          "data": {
            "text/plain": [
              "<Axes: ylabel='owner'>"
            ]
          },
          "metadata": {},
          "execution_count": 188
        },
        {
          "output_type": "display_data",
          "data": {
            "text/plain": [
              "<Figure size 640x480 with 1 Axes>"
            ],
            "image/png": "[encoded data removed]"
          },
          "metadata": {}
        }
      ]
    },
    {
      "cell_type": "code",
      "source": [
        "df['first_name'] = df['name'].str.split(' ').str[0]"
      ],
      "metadata": {
        "id": "Gco2NdXsP8q4"
      },
      "execution_count": 189,
      "outputs": []
    },
    {
      "cell_type": "code",
      "source": [
        "plt.figure(figsize = (13,6))\n",
        "df['first_name'].value_counts().head(15).plot.bar(color=['orange' if val > 300 else 'blue' for val in df['first_name'].value_counts().values])"
      ],
      "metadata": {
        "colab": {
          "base_uri": "https://localhost:8080/",
          "height": 607
        },
        "id": "IA-oDfgMSXDP",
        "outputId": "f09e0040-0c42-4a7d-db05-17f560426ba9"
      },
      "execution_count": 190,
      "outputs": [
        {
          "output_type": "execute_result",
          "data": {
            "text/plain": [
              "<Axes: >"
            ]
          },
          "metadata": {},
          "execution_count": 190
        },
        {
          "output_type": "display_data",
          "data": {
            "text/plain": [
              "<Figure size 1300x600 with 1 Axes>"
            ],
            "image/png": "[encoded data removed]"
          },
          "metadata": {}
        }
      ]
    },
    {
      "cell_type": "code",
      "source": [
        "plt.figure(figsize = (14,6))\n",
        "df['year'].value_counts().plot.bar(color = ['red' if val > 200 else 'green' for val in df['year'].value_counts().values])"
      ],
      "metadata": {
        "colab": {
          "base_uri": "https://localhost:8080/",
          "height": 561
        },
        "id": "JvIDgtDzSZf7",
        "outputId": "7fb392d3-844b-46aa-ee29-b7187a9c5787"
      },
      "execution_count": 191,
      "outputs": [
        {
          "output_type": "execute_result",
          "data": {
            "text/plain": [
              "<Axes: >"
            ]
          },
          "metadata": {},
          "execution_count": 191
        },
        {
          "output_type": "display_data",
          "data": {
            "text/plain": [
              "<Figure size 1400x600 with 1 Axes>"
            ],
            "image/png": "[encoded data removed]"
          },
          "metadata": {}
        }
      ]
    },
    {
      "cell_type": "markdown",
      "source": [
        "# Data Cleaning"
      ],
      "metadata": {
        "id": "M3tUgqhDYRwG"
      }
    },
    {
      "cell_type": "code",
      "source": [
        "Fuel = pd.get_dummies(df['fuel'] , drop_first = True)"
      ],
      "metadata": {
        "id": "ZkkTm55VVTTr"
      },
      "execution_count": 192,
      "outputs": []
    },
    {
      "cell_type": "code",
      "source": [
        "Seller = pd.get_dummies(df['seller_type'], drop_first = True)"
      ],
      "metadata": {
        "id": "F-tdeeKHZZgw"
      },
      "execution_count": 193,
      "outputs": []
    },
    {
      "cell_type": "code",
      "source": [
        "Transmission = pd.get_dummies(df['transmission'], drop_first = True)"
      ],
      "metadata": {
        "id": "BoGqj1tlZa_f"
      },
      "execution_count": 194,
      "outputs": []
    },
    {
      "cell_type": "code",
      "source": [
        "Owner = pd.get_dummies(df['owner'], drop_first = True)"
      ],
      "metadata": {
        "id": "BIAy7r2SaW78"
      },
      "execution_count": 195,
      "outputs": []
    },
    {
      "cell_type": "code",
      "source": [
        "df = pd.concat([df, Fuel, Seller, Transmission, Owner], axis = 1)"
      ],
      "metadata": {
        "id": "g-TfaxFFaeG3"
      },
      "execution_count": 196,
      "outputs": []
    },
    {
      "cell_type": "code",
      "source": [
        "df.drop(['fuel', 'seller_type', 'transmission', 'owner' , 'name', 'first_name'] , axis = 1, inplace = True)"
      ],
      "metadata": {
        "id": "HBF3NoExa0Jh"
      },
      "execution_count": 197,
      "outputs": []
    },
    {
      "cell_type": "code",
      "source": [
        "df.corr()['selling_price']"
      ],
      "metadata": {
        "colab": {
          "base_uri": "https://localhost:8080/"
        },
        "id": "HL16EI-za1Xw",
        "outputId": "5f6a068e-0766-4df0-b2ac-34410c11aea7"
      },
      "execution_count": 198,
      "outputs": [
        {
          "output_type": "execute_result",
          "data": {
            "text/plain": [
              "year                    0.413922\n",
              "selling_price           1.000000\n",
              "km_driven              -0.192289\n",
              "Diesel                  0.282947\n",
              "Electric               -0.005095\n",
              "LPG                    -0.042434\n",
              "Petrol                 -0.269453\n",
              "Individual             -0.236798\n",
              "Trustmark Dealer        0.110176\n",
              "Manual                 -0.530205\n",
              "Fourth & Above Owner   -0.078725\n",
              "Second Owner           -0.161986\n",
              "Test Drive Car          0.048799\n",
              "Third Owner            -0.111326\n",
              "Name: selling_price, dtype: float64"
            ]
          },
          "metadata": {},
          "execution_count": 198
        }
      ]
    },
    {
      "cell_type": "code",
      "source": [
        "X = df.drop(['selling_price'] , axis = 1)\n",
        "y = df['selling_price']"
      ],
      "metadata": {
        "id": "c3eQtV8Pb4Ux"
      },
      "execution_count": 199,
      "outputs": []
    },
    {
      "cell_type": "code",
      "source": [
        "from sklearn.metrics import r2_score\n",
        "from sklearn.model_selection import train_test_split\n",
        "X_train, X_test, y_train, y_test = train_test_split(X, y, test_size = 0.3)"
      ],
      "metadata": {
        "id": "IZFDOu_kfUWJ"
      },
      "execution_count": 200,
      "outputs": []
    },
    {
      "cell_type": "code",
      "source": [
        "from sklearn.preprocessing import MinMaxScaler\n",
        "scaler = MinMaxScaler()\n",
        "scaler.fit(X_train)\n",
        "X_train = scaler.transform(X_train)\n",
        "X_test = scaler.transform(X_test)"
      ],
      "metadata": {
        "id": "AcrgtpEPfZ7l"
      },
      "execution_count": 201,
      "outputs": []
    },
    {
      "cell_type": "code",
      "source": [
        "from sklearn.linear_model import LinearRegression\n",
        "lm = LinearRegression()\n",
        "lm.fit(X_train, y_train)\n",
        "y_pred = lm.predict(X_test)\n",
        "print('R2_Score is ', r2_score(y_test, y_pred)*100)"
      ],
      "metadata": {
        "colab": {
          "base_uri": "https://localhost:8080/"
        },
        "id": "7JIH_T7Sisci",
        "outputId": "834ac7f0-a943-4f67-9702-b8ca46f7378b"
      },
      "execution_count": 202,
      "outputs": [
        {
          "output_type": "stream",
          "name": "stdout",
          "text": [
            "R2_Score is  37.842910343462364\n"
          ]
        }
      ]
    },
    {
      "cell_type": "code",
      "source": [
        "from sklearn.tree import DecisionTreeRegressor\n",
        "dt = DecisionTreeRegressor()\n",
        "dt.fit(X_train, y_train)\n",
        "y_pred = dt.predict(X_test)\n",
        "print('R2_Score is ', r2_score(y_test, y_pred)*100)"
      ],
      "metadata": {
        "colab": {
          "base_uri": "https://localhost:8080/"
        },
        "id": "owSFHFIyizKI",
        "outputId": "3ca72928-55bf-432f-e91d-da83e0877255"
      },
      "execution_count": 203,
      "outputs": [
        {
          "output_type": "stream",
          "name": "stdout",
          "text": [
            "R2_Score is  35.53397453199351\n"
          ]
        }
      ]
    },
    {
      "cell_type": "code",
      "source": [
        "from sklearn.ensemble import RandomForestRegressor\n",
        "rf = RandomForestRegressor()\n",
        "rf.fit(X_train, y_train)\n",
        "y_pred = rf.predict(X_test)\n",
        "print('R2_Score is ', r2_score(y_test, y_pred)*100)"
      ],
      "metadata": {
        "colab": {
          "base_uri": "https://localhost:8080/"
        },
        "id": "RXCAt2aXkUiK",
        "outputId": "64d29f56-f389-4bce-8545-7b6aaf128574"
      },
      "execution_count": 204,
      "outputs": [
        {
          "output_type": "stream",
          "name": "stdout",
          "text": [
            "R2_Score is  54.083810860390955\n"
          ]
        }
      ]
    },
    {
      "cell_type": "code",
      "source": [
        "df.corr()['selling_price']"
      ],
      "metadata": {
        "colab": {
          "base_uri": "https://localhost:8080/"
        },
        "id": "Wc-ba7-ylJ9O",
        "outputId": "d86ba48a-83ef-453c-fe72-0b9076d60e64"
      },
      "execution_count": 205,
      "outputs": [
        {
          "output_type": "execute_result",
          "data": {
            "text/plain": [
              "year                    0.413922\n",
              "selling_price           1.000000\n",
              "km_driven              -0.192289\n",
              "Diesel                  0.282947\n",
              "Electric               -0.005095\n",
              "LPG                    -0.042434\n",
              "Petrol                 -0.269453\n",
              "Individual             -0.236798\n",
              "Trustmark Dealer        0.110176\n",
              "Manual                 -0.530205\n",
              "Fourth & Above Owner   -0.078725\n",
              "Second Owner           -0.161986\n",
              "Test Drive Car          0.048799\n",
              "Third Owner            -0.111326\n",
              "Name: selling_price, dtype: float64"
            ]
          },
          "metadata": {},
          "execution_count": 205
        }
      ]
    },
    {
      "cell_type": "code",
      "source": [
        "df.columns"
      ],
      "metadata": {
        "colab": {
          "base_uri": "https://localhost:8080/"
        },
        "id": "3uq5HhBxnr27",
        "outputId": "481872d9-169e-400e-c260-cfc29f2abb38"
      },
      "execution_count": 206,
      "outputs": [
        {
          "output_type": "execute_result",
          "data": {
            "text/plain": [
              "Index(['year', 'selling_price', 'km_driven', 'Diesel', 'Electric', 'LPG',\n",
              "       'Petrol', 'Individual', 'Trustmark Dealer', 'Manual',\n",
              "       'Fourth & Above Owner', 'Second Owner', 'Test Drive Car',\n",
              "       'Third Owner'],\n",
              "      dtype='object')"
            ]
          },
          "metadata": {},
          "execution_count": 206
        }
      ]
    },
    {
      "cell_type": "code",
      "source": [
        "X1 = df[['year','Diesel','Trustmark Dealer', 'Test Drive Car','km_driven', 'LPG', 'Petrol', 'Fourth & Above Owner','Second Owner' ]]\n",
        "y1 = df['selling_price']"
      ],
      "metadata": {
        "id": "tI7RiJ8Ukofd"
      },
      "execution_count": 207,
      "outputs": []
    },
    {
      "cell_type": "code",
      "source": [
        "X1_train, X1_test, y1_train, y1_test = train_test_split(X1, y1, test_size = 0.3)"
      ],
      "metadata": {
        "id": "GMqzAd0VlgLf"
      },
      "execution_count": 208,
      "outputs": []
    },
    {
      "cell_type": "code",
      "source": [
        "from sklearn.preprocessing import StandardScaler\n",
        "scaler = StandardScaler()\n",
        "scaler.fit(X1_train)\n",
        "X1_train = scaler.transform(X1_train)\n",
        "X1_test = scaler.transform(X1_test)"
      ],
      "metadata": {
        "id": "-Cmz0gm0l-Yv"
      },
      "execution_count": 209,
      "outputs": []
    },
    {
      "cell_type": "code",
      "source": [
        "from sklearn.ensemble import RandomForestRegressor\n",
        "rf = RandomForestRegressor()\n",
        "rf.fit(X1_train, y1_train)\n",
        "y1_pred = rf.predict(X1_test)\n",
        "print('R2_Score is ', r2_score(y1_test, y1_pred)*100)"
      ],
      "metadata": {
        "colab": {
          "base_uri": "https://localhost:8080/"
        },
        "id": "O-i08kp4nGv6",
        "outputId": "3ab6facf-98b5-4d29-a4c7-a1ec9eef1b91"
      },
      "execution_count": 210,
      "outputs": [
        {
          "output_type": "stream",
          "name": "stdout",
          "text": [
            "R2_Score is  37.845624857211725\n"
          ]
        }
      ]
    },
    {
      "cell_type": "code",
      "source": [
        "from tensorflow import keras\n",
        "from tensorflow.keras.models import Sequential\n",
        "from tensorflow.keras.layers import Dense"
      ],
      "metadata": {
        "id": "ad-kBbn_nQVz"
      },
      "execution_count": 211,
      "outputs": []
    },
    {
      "cell_type": "code",
      "source": [
        "model = Sequential()\n",
        "model.add(Dense(units = 72, activation = 'relu', input_dim = 9))\n",
        "model.add(Dense(units = 72, activation = 'relu'))\n",
        "model.add(Dense(units = 18, activation = 'relu'))\n",
        "model.add(Dense(units = 9, activation = 'relu'))\n",
        "model.add(Dense(units = 1))"
      ],
      "metadata": {
        "id": "YlayoT2Xoh-p"
      },
      "execution_count": 231,
      "outputs": []
    },
    {
      "cell_type": "code",
      "source": [
        "model.compile(optimizer='adam', loss='mean_absolute_error', metrics=['accuracy'])"
      ],
      "metadata": {
        "id": "ZVTJ5LsDpIRO"
      },
      "execution_count": 232,
      "outputs": []
    },
    {
      "cell_type": "code",
      "source": [
        "model.fit(X1_train, y1_train, epochs=100, batch_size=100)"
      ],
      "metadata": {
        "colab": {
          "base_uri": "https://localhost:8080/"
        },
        "id": "2Tpoeu_CpkPu",
        "outputId": "868ef87a-3700-4a80-c108-26f99234a610"
      },
      "execution_count": 235,
      "outputs": [
        {
          "output_type": "stream",
          "name": "stdout",
          "text": [
            "Epoch 1/100\n",
            "31/31 [==============================] - 0s 5ms/step - loss: 210514.4531 - accuracy: 0.0000e+00\n",
            "Epoch 2/100\n",
            "31/31 [==============================] - 0s 4ms/step - loss: 210530.6094 - accuracy: 0.0000e+00\n",
            "Epoch 3/100\n",
            "31/31 [==============================] - 0s 8ms/step - loss: 210488.3125 - accuracy: 0.0000e+00\n",
            "Epoch 4/100\n",
            "31/31 [==============================] - 0s 6ms/step - loss: 210485.2500 - accuracy: 0.0000e+00\n",
            "Epoch 5/100\n",
            "31/31 [==============================] - 0s 6ms/step - loss: 210501.9375 - accuracy: 0.0000e+00\n",
            "Epoch 6/100\n",
            "31/31 [==============================] - 0s 7ms/step - loss: 210466.7812 - accuracy: 0.0000e+00\n",
            "Epoch 7/100\n",
            "31/31 [==============================] - 0s 7ms/step - loss: 210441.0625 - accuracy: 0.0000e+00\n",
            "Epoch 8/100\n",
            "31/31 [==============================] - 0s 7ms/step - loss: 210447.3750 - accuracy: 0.0000e+00\n",
            "Epoch 9/100\n",
            "31/31 [==============================] - 0s 7ms/step - loss: 210425.0312 - accuracy: 0.0000e+00\n",
            "Epoch 10/100\n",
            "31/31 [==============================] - 0s 5ms/step - loss: 210449.9688 - accuracy: 0.0000e+00\n",
            "Epoch 11/100\n",
            "31/31 [==============================] - 0s 4ms/step - loss: 210435.3125 - accuracy: 0.0000e+00\n",
            "Epoch 12/100\n",
            "31/31 [==============================] - 0s 4ms/step - loss: 210440.4219 - accuracy: 0.0000e+00\n",
            "Epoch 13/100\n",
            "31/31 [==============================] - 0s 5ms/step - loss: 210354.7500 - accuracy: 0.0000e+00\n",
            "Epoch 14/100\n",
            "31/31 [==============================] - 0s 4ms/step - loss: 210339.5625 - accuracy: 0.0000e+00\n",
            "Epoch 15/100\n",
            "31/31 [==============================] - 0s 4ms/step - loss: 210320.3750 - accuracy: 0.0000e+00\n",
            "Epoch 16/100\n",
            "31/31 [==============================] - 0s 5ms/step - loss: 210316.3906 - accuracy: 0.0000e+00\n",
            "Epoch 17/100\n",
            "31/31 [==============================] - 0s 4ms/step - loss: 210327.1562 - accuracy: 0.0000e+00\n",
            "Epoch 18/100\n",
            "31/31 [==============================] - 0s 4ms/step - loss: 210314.2812 - accuracy: 0.0000e+00\n",
            "Epoch 19/100\n",
            "31/31 [==============================] - 0s 4ms/step - loss: 210291.2812 - accuracy: 0.0000e+00\n",
            "Epoch 20/100\n",
            "31/31 [==============================] - 0s 3ms/step - loss: 210361.4844 - accuracy: 0.0000e+00\n",
            "Epoch 21/100\n",
            "31/31 [==============================] - 0s 4ms/step - loss: 210262.8125 - accuracy: 0.0000e+00\n",
            "Epoch 22/100\n",
            "31/31 [==============================] - 0s 3ms/step - loss: 210271.7031 - accuracy: 0.0000e+00\n",
            "Epoch 23/100\n",
            "31/31 [==============================] - 0s 3ms/step - loss: 210249.6875 - accuracy: 0.0000e+00\n",
            "Epoch 24/100\n",
            "31/31 [==============================] - 0s 3ms/step - loss: 210251.4531 - accuracy: 0.0000e+00\n",
            "Epoch 25/100\n",
            "31/31 [==============================] - 0s 3ms/step - loss: 210213.7656 - accuracy: 0.0000e+00\n",
            "Epoch 26/100\n",
            "31/31 [==============================] - 0s 3ms/step - loss: 210216.9531 - accuracy: 0.0000e+00\n",
            "Epoch 27/100\n",
            "31/31 [==============================] - 0s 3ms/step - loss: 210242.6719 - accuracy: 0.0000e+00\n",
            "Epoch 28/100\n",
            "31/31 [==============================] - 0s 3ms/step - loss: 210175.4375 - accuracy: 0.0000e+00\n",
            "Epoch 29/100\n",
            "31/31 [==============================] - 0s 3ms/step - loss: 210172.3281 - accuracy: 0.0000e+00\n",
            "Epoch 30/100\n",
            "31/31 [==============================] - 0s 3ms/step - loss: 210178.5469 - accuracy: 0.0000e+00\n",
            "Epoch 31/100\n",
            "31/31 [==============================] - 0s 3ms/step - loss: 210167.5469 - accuracy: 0.0000e+00\n",
            "Epoch 32/100\n",
            "31/31 [==============================] - 0s 3ms/step - loss: 210168.2188 - accuracy: 0.0000e+00\n",
            "Epoch 33/100\n",
            "31/31 [==============================] - 0s 3ms/step - loss: 210196.9688 - accuracy: 0.0000e+00\n",
            "Epoch 34/100\n",
            "31/31 [==============================] - 0s 3ms/step - loss: 210116.5156 - accuracy: 0.0000e+00\n",
            "Epoch 35/100\n",
            "31/31 [==============================] - 0s 3ms/step - loss: 210161.5938 - accuracy: 0.0000e+00\n",
            "Epoch 36/100\n",
            "31/31 [==============================] - 0s 3ms/step - loss: 210091.8750 - accuracy: 0.0000e+00\n",
            "Epoch 37/100\n",
            "31/31 [==============================] - 0s 3ms/step - loss: 210093.0156 - accuracy: 0.0000e+00\n",
            "Epoch 38/100\n",
            "31/31 [==============================] - 0s 3ms/step - loss: 210074.8438 - accuracy: 0.0000e+00\n",
            "Epoch 39/100\n",
            "31/31 [==============================] - 0s 3ms/step - loss: 210112.5312 - accuracy: 0.0000e+00\n",
            "Epoch 40/100\n",
            "31/31 [==============================] - 0s 3ms/step - loss: 210052.1562 - accuracy: 0.0000e+00\n",
            "Epoch 41/100\n",
            "31/31 [==============================] - 0s 3ms/step - loss: 210168.5469 - accuracy: 0.0000e+00\n",
            "Epoch 42/100\n",
            "31/31 [==============================] - 0s 4ms/step - loss: 210074.3750 - accuracy: 0.0000e+00\n",
            "Epoch 43/100\n",
            "31/31 [==============================] - 0s 3ms/step - loss: 210044.1094 - accuracy: 0.0000e+00\n",
            "Epoch 44/100\n",
            "31/31 [==============================] - 0s 3ms/step - loss: 210018.7344 - accuracy: 0.0000e+00\n",
            "Epoch 45/100\n",
            "31/31 [==============================] - 0s 3ms/step - loss: 210059.0781 - accuracy: 0.0000e+00\n",
            "Epoch 46/100\n",
            "31/31 [==============================] - 0s 3ms/step - loss: 210044.9062 - accuracy: 0.0000e+00\n",
            "Epoch 47/100\n",
            "31/31 [==============================] - 0s 3ms/step - loss: 210012.9219 - accuracy: 0.0000e+00\n",
            "Epoch 48/100\n",
            "31/31 [==============================] - 0s 3ms/step - loss: 210003.7188 - accuracy: 0.0000e+00\n",
            "Epoch 49/100\n",
            "31/31 [==============================] - 0s 3ms/step - loss: 209989.8750 - accuracy: 0.0000e+00\n",
            "Epoch 50/100\n",
            "31/31 [==============================] - 0s 3ms/step - loss: 209987.4062 - accuracy: 0.0000e+00\n",
            "Epoch 51/100\n",
            "31/31 [==============================] - 0s 3ms/step - loss: 209959.1875 - accuracy: 0.0000e+00\n",
            "Epoch 52/100\n",
            "31/31 [==============================] - 0s 3ms/step - loss: 209946.0938 - accuracy: 0.0000e+00\n",
            "Epoch 53/100\n",
            "31/31 [==============================] - 0s 3ms/step - loss: 209964.8281 - accuracy: 0.0000e+00\n",
            "Epoch 54/100\n",
            "31/31 [==============================] - 0s 3ms/step - loss: 209921.4375 - accuracy: 0.0000e+00\n",
            "Epoch 55/100\n",
            "31/31 [==============================] - 0s 3ms/step - loss: 209953.9844 - accuracy: 0.0000e+00\n",
            "Epoch 56/100\n",
            "31/31 [==============================] - 0s 3ms/step - loss: 209904.1562 - accuracy: 0.0000e+00\n",
            "Epoch 57/100\n",
            "31/31 [==============================] - 0s 3ms/step - loss: 209931.6250 - accuracy: 0.0000e+00\n",
            "Epoch 58/100\n",
            "31/31 [==============================] - 0s 3ms/step - loss: 209918.9062 - accuracy: 0.0000e+00\n",
            "Epoch 59/100\n",
            "31/31 [==============================] - 0s 3ms/step - loss: 210017.7500 - accuracy: 0.0000e+00\n",
            "Epoch 60/100\n",
            "31/31 [==============================] - 0s 3ms/step - loss: 209914.8594 - accuracy: 0.0000e+00\n",
            "Epoch 61/100\n",
            "31/31 [==============================] - 0s 3ms/step - loss: 209942.3750 - accuracy: 0.0000e+00\n",
            "Epoch 62/100\n",
            "31/31 [==============================] - 0s 3ms/step - loss: 209915.4219 - accuracy: 0.0000e+00\n",
            "Epoch 63/100\n",
            "31/31 [==============================] - 0s 3ms/step - loss: 209868.8750 - accuracy: 0.0000e+00\n",
            "Epoch 64/100\n",
            "31/31 [==============================] - 0s 3ms/step - loss: 209837.6875 - accuracy: 0.0000e+00\n",
            "Epoch 65/100\n",
            "31/31 [==============================] - 0s 3ms/step - loss: 209882.9688 - accuracy: 0.0000e+00\n",
            "Epoch 66/100\n",
            "31/31 [==============================] - 0s 3ms/step - loss: 209816.7500 - accuracy: 0.0000e+00\n",
            "Epoch 67/100\n",
            "31/31 [==============================] - 0s 3ms/step - loss: 209839.3750 - accuracy: 0.0000e+00\n",
            "Epoch 68/100\n",
            "31/31 [==============================] - 0s 3ms/step - loss: 209833.8438 - accuracy: 0.0000e+00\n",
            "Epoch 69/100\n",
            "31/31 [==============================] - 0s 3ms/step - loss: 209814.1406 - accuracy: 0.0000e+00\n",
            "Epoch 70/100\n",
            "31/31 [==============================] - 0s 3ms/step - loss: 209868.4531 - accuracy: 0.0000e+00\n",
            "Epoch 71/100\n",
            "31/31 [==============================] - 0s 3ms/step - loss: 209780.8750 - accuracy: 0.0000e+00\n",
            "Epoch 72/100\n",
            "31/31 [==============================] - 0s 3ms/step - loss: 209812.2500 - accuracy: 0.0000e+00\n",
            "Epoch 73/100\n",
            "31/31 [==============================] - 0s 3ms/step - loss: 209792.3125 - accuracy: 0.0000e+00\n",
            "Epoch 74/100\n",
            "31/31 [==============================] - 0s 3ms/step - loss: 209818.7812 - accuracy: 0.0000e+00\n",
            "Epoch 75/100\n",
            "31/31 [==============================] - 0s 3ms/step - loss: 209762.7344 - accuracy: 0.0000e+00\n",
            "Epoch 76/100\n",
            "31/31 [==============================] - 0s 3ms/step - loss: 209785.4531 - accuracy: 0.0000e+00\n",
            "Epoch 77/100\n",
            "31/31 [==============================] - 0s 3ms/step - loss: 209754.8750 - accuracy: 0.0000e+00\n",
            "Epoch 78/100\n",
            "31/31 [==============================] - 0s 3ms/step - loss: 209775.3750 - accuracy: 0.0000e+00\n",
            "Epoch 79/100\n",
            "31/31 [==============================] - 0s 3ms/step - loss: 209732.4062 - accuracy: 0.0000e+00\n",
            "Epoch 80/100\n",
            "31/31 [==============================] - 0s 3ms/step - loss: 209785.7031 - accuracy: 0.0000e+00\n",
            "Epoch 81/100\n",
            "31/31 [==============================] - 0s 3ms/step - loss: 209775.5469 - accuracy: 0.0000e+00\n",
            "Epoch 82/100\n",
            "31/31 [==============================] - 0s 3ms/step - loss: 209775.2500 - accuracy: 0.0000e+00\n",
            "Epoch 83/100\n",
            "31/31 [==============================] - 0s 3ms/step - loss: 209750.8438 - accuracy: 0.0000e+00\n",
            "Epoch 84/100\n",
            "31/31 [==============================] - 0s 3ms/step - loss: 209721.5469 - accuracy: 0.0000e+00\n",
            "Epoch 85/100\n",
            "31/31 [==============================] - 0s 3ms/step - loss: 209736.3438 - accuracy: 0.0000e+00\n",
            "Epoch 86/100\n",
            "31/31 [==============================] - 0s 3ms/step - loss: 209731.9219 - accuracy: 0.0000e+00\n",
            "Epoch 87/100\n",
            "31/31 [==============================] - 0s 3ms/step - loss: 209691.4688 - accuracy: 0.0000e+00\n",
            "Epoch 88/100\n",
            "31/31 [==============================] - 0s 3ms/step - loss: 209653.8281 - accuracy: 0.0000e+00\n",
            "Epoch 89/100\n",
            "31/31 [==============================] - 0s 3ms/step - loss: 209655.7188 - accuracy: 0.0000e+00\n",
            "Epoch 90/100\n",
            "31/31 [==============================] - 0s 3ms/step - loss: 209677.7500 - accuracy: 0.0000e+00\n",
            "Epoch 91/100\n",
            "31/31 [==============================] - 0s 3ms/step - loss: 209659.7188 - accuracy: 0.0000e+00\n",
            "Epoch 92/100\n",
            "31/31 [==============================] - 0s 3ms/step - loss: 209681.0156 - accuracy: 0.0000e+00\n",
            "Epoch 93/100\n",
            "31/31 [==============================] - 0s 3ms/step - loss: 209645.3125 - accuracy: 0.0000e+00\n",
            "Epoch 94/100\n",
            "31/31 [==============================] - 0s 3ms/step - loss: 209650.9844 - accuracy: 0.0000e+00\n",
            "Epoch 95/100\n",
            "31/31 [==============================] - 0s 3ms/step - loss: 209620.5625 - accuracy: 0.0000e+00\n",
            "Epoch 96/100\n",
            "31/31 [==============================] - 0s 3ms/step - loss: 209615.5469 - accuracy: 0.0000e+00\n",
            "Epoch 97/100\n",
            "31/31 [==============================] - 0s 3ms/step - loss: 209637.0781 - accuracy: 0.0000e+00\n",
            "Epoch 98/100\n",
            "31/31 [==============================] - 0s 3ms/step - loss: 209626.7500 - accuracy: 0.0000e+00\n",
            "Epoch 99/100\n",
            "31/31 [==============================] - 0s 3ms/step - loss: 209588.3281 - accuracy: 0.0000e+00\n",
            "Epoch 100/100\n",
            "31/31 [==============================] - 0s 3ms/step - loss: 209598.4375 - accuracy: 0.0000e+00\n"
          ]
        },
        {
          "output_type": "execute_result",
          "data": {
            "text/plain": [
              "<keras.callbacks.History at 0x7fe4530db7c0>"
            ]
          },
          "metadata": {},
          "execution_count": 235
        }
      ]
    },
    {
      "cell_type": "code",
      "source": [
        "y1_pred = model.predict(X1_test)\n",
        "print('R2_Score is ', r2_score(y1_test, y1_pred)*100)"
      ],
      "metadata": {
        "colab": {
          "base_uri": "https://localhost:8080/"
        },
        "id": "gVl9JgkUpsKJ",
        "outputId": "1b93aaaa-531a-49cc-a2fe-bb6e1f45f77a"
      },
      "execution_count": 236,
      "outputs": [
        {
          "output_type": "stream",
          "name": "stdout",
          "text": [
            "41/41 [==============================] - 0s 1ms/step\n",
            "R2_Score is  25.801437098001923\n"
          ]
        }
      ]
    },
    {
      "cell_type": "code",
      "source": [],
      "metadata": {
        "id": "DHVNj2v3qE9b"
      },
      "execution_count": 224,
      "outputs": []
    }
  ]
}